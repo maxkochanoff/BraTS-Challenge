{
 "cells": [
  {
   "cell_type": "code",
   "execution_count": 18,
   "metadata": {
    "id": "HSEoHeBU3L-_"
   },
   "outputs": [],
   "source": [
    "import os\n",
    "import gzip\n",
    "import shutil\n",
    "from tqdm import tqdm\n",
    "import zipfile\n",
    "import subprocess\n",
    "import sys\n",
    "import pandas as pd\n",
    "import cv2\n",
    "import numpy as np\n",
    "import copy\n",
    "import torch\n",
    "import matplotlib.pyplot as plt"
   ]
  },
  {
   "cell_type": "code",
   "execution_count": 2,
   "metadata": {
    "id": "zPFV8we63f-4"
   },
   "outputs": [],
   "source": [
    "def unzip(data_root, target_root):\n",
    "  for item in tqdm(os.listdir(data_root)):\n",
    "    with zipfile.ZipFile(data_root + item, \"r\") as zip_ref:\n",
    "      zip_ref.extractall(target_root)"
   ]
  },
  {
   "cell_type": "code",
   "execution_count": 3,
   "metadata": {},
   "outputs": [],
   "source": [
    "target_root = 'C:\\\\Users\\\\Admin\\\\Desktop\\\\KohanovDiploma\\\\masksBrats_new\\\\'\n",
    "os.mkdir(target_root)\n",
    "for item in os.listdir('C:\\\\Users\\\\Admin\\\\Downloads\\\\masksBrats'):\n",
    "    os.chdir(target_root)\n",
    "    os.mkdir(f'{item[:-7]}')\n",
    "    os.chdir(f'{item[:-7]}')\n",
    "    shutil.copyfile('C:\\\\Users\\\\Admin\\\\Downloads\\\\masksBrats\\\\' + item, item[:-7] + '_seg.nii.gz')"
   ]
  },
  {
   "cell_type": "code",
   "execution_count": 22,
   "metadata": {},
   "outputs": [],
   "source": [
    "for fold in os.listdir('C:\\\\Users\\\\Admin\\\\Desktop\\\\KohanovDiploma\\\\BraTS\\\\MICCAI_BraTS2020_ValidationData'):\n",
    "    if not os.path.isfile('C:\\\\Users\\\\Admin\\\\Desktop\\\\KohanovDiploma\\\\BraTS\\\\MICCAI_BraTS2020_ValidationData\\\\' + fold + f'\\\\{fold}_seg.nii.gz'):\n",
    "        shutil.rmtree('C:\\\\Users\\\\Admin\\\\Desktop\\\\KohanovDiploma\\\\BraTS\\\\MICCAI_BraTS2020_ValidationData\\\\' + fold)\n",
    "    "
   ]
  },
  {
   "cell_type": "code",
   "execution_count": null,
   "metadata": {
    "colab": {
     "base_uri": "https://localhost:8080/"
    },
    "id": "ic5J71wc4vun",
    "outputId": "9ef1ba9b-70d3-4674-f52f-3d8ab813feac"
   },
   "outputs": [
    {
     "name": "stderr",
     "output_type": "stream",
     "text": [
      "100%|██████████| 2/2 [02:29<00:00, 74.83s/it]\n"
     ]
    }
   ],
   "source": [
    "data_root = '/content/drive/Shareddrives/BraTS/'\n",
    "work_data = '/content/drive/MyDrive/BraTS_for_kirill/'\n",
    "unzip(data_root, work_data)"
   ]
  },
  {
   "cell_type": "code",
   "execution_count": 2,
   "metadata": {
    "colab": {
     "base_uri": "https://localhost:8080/"
    },
    "id": "MOaYuw1nQ85m",
    "outputId": "13e51aca-56fb-4124-f278-c5488c40524b"
   },
   "outputs": [],
   "source": [
    "import nibabel as nib"
   ]
  },
  {
   "cell_type": "code",
   "execution_count": 20,
   "metadata": {
    "id": "sOLWz1YkNP3U"
   },
   "outputs": [],
   "source": [
    "def niigz_to_images(data_root, modal):\n",
    "    for folder in tqdm(os.listdir(data_root)):\n",
    "        if os.path.isdir(data_root + folder):\n",
    "            os.chdir(data_root + folder)\n",
    "            filename = f'{folder}_{modal}.nii.gz'\n",
    "            if os.path.isfile(filename): \n",
    "                images = nib.load(filename).get_data()\n",
    "                if not os.path.isdir(f'{modal}'):\n",
    "                    os.mkdir(f'{modal}')\n",
    "                for j in range(images.shape[2]):\n",
    "                    image = images[:,:,j]\n",
    "                    if modal == 'seg':\n",
    "                        temp = torch.zeros((240,240,3))\n",
    "\n",
    "                        mask1 = copy.copy(image)\n",
    "                        mask1 = np.uint8(mask1)\n",
    "                        mask1 = torch.tensor(mask1)\n",
    "                        mask1.apply_(lambda x: 1 if x==3 else 0)  # 4\n",
    "\n",
    "                        mask2 = copy.copy(image)\n",
    "                        mask2 = np.uint8(mask2)\n",
    "                        mask2 = torch.tensor(mask2)\n",
    "                        mask2.apply_(lambda x: 1 if x==1 else 0)  # 2\n",
    "\n",
    "                        mask3 = copy.copy(image)\n",
    "                        mask3 = np.uint8(mask3)\n",
    "                        mask3 = torch.tensor(mask3)\n",
    "                        mask3.apply_(lambda x: 1 if x==2 else 0)  # 1\n",
    "\n",
    "                        temp[:,:,0] = mask1\n",
    "                        temp[:,:,1] = mask2\n",
    "                        temp[:,:,2] = mask3\n",
    "\n",
    "                        image = np.asarray(temp)\n",
    "                        image = image * 255\n",
    "                    else:\n",
    "                        rescale = 255/max(np.unique(np.asarray(image)))\n",
    "                        image = image * rescale\n",
    "                    cv2.imwrite(data_root + folder + f'/{modal}/{j}.png', image)\n",
    "                else:\n",
    "                    continue"
   ]
  },
  {
   "cell_type": "code",
   "execution_count": 21,
   "metadata": {
    "scrolled": true
   },
   "outputs": [],
   "source": [
    "data_root = 'C:\\\\Users\\\\Admin\\\\Desktop\\\\KohanovDiploma\\\\BraTS\\\\MICCAI_BraTS2020_TrainingData\\\\'\n",
    "val_root = 'C:\\\\Users\\\\Admin\\\\Desktop\\\\KohanovDiploma\\\\BraTS\\\\MICCAI_BraTS2020_ValidationData\\\\'"
   ]
  },
  {
   "cell_type": "code",
   "execution_count": null,
   "metadata": {
    "colab": {
     "base_uri": "https://localhost:8080/",
     "height": 1000
    },
    "id": "eAkb5sUOAklN",
    "outputId": "d767cabc-e98a-42eb-c806-42d12cb56c1b"
   },
   "outputs": [],
   "source": [
    "niigz_to_images(val_root, 'seg')"
   ]
  },
  {
   "cell_type": "code",
   "execution_count": null,
   "metadata": {
    "colab": {
     "base_uri": "https://localhost:8080/",
     "height": 1000
    },
    "id": "hm95B6NSFE4L",
    "outputId": "d0bb4522-962b-45c3-fb98-8600946876c5"
   },
   "outputs": [],
   "source": [
    "niigz_to_images(val_root, 't1ce')"
   ]
  },
  {
   "cell_type": "code",
   "execution_count": null,
   "metadata": {
    "colab": {
     "base_uri": "https://localhost:8080/"
    },
    "id": "fN4DI0h5pJmL",
    "outputId": "c7b2d8c1-6855-4149-8fdd-ec3bd828c57c"
   },
   "outputs": [
    {
     "name": "stderr",
     "output_type": "stream",
     "text": [
      "\n",
      "\n",
      "\n",
      "  0%|          | 0/371 [00:00<?, ?it/s]\u001b[A\u001b[A\u001b[A\n",
      "\n",
      "\n",
      "100%|██████████| 371/371 [00:00<00:00, 3072.23it/s]\n"
     ]
    }
   ],
   "source": [
    "import shutil\n",
    "data_root = '/content/drive/MyDrive/BraTS/MICCAI_BraTS2020_TrainingData/'\n",
    "for folder in tqdm(os.listdir(data_root)):\n",
    "  if os.path.isdir(data_root + folder):\n",
    "    os.chdir(data_root + folder)\n",
    "    if os.path.isdir('t1ce'):\n",
    "      shutil.rmtree('t1ce')"
   ]
  },
  {
   "cell_type": "code",
   "execution_count": null,
   "metadata": {},
   "outputs": [],
   "source": []
  }
 ],
 "metadata": {
  "accelerator": "GPU",
  "colab": {
   "collapsed_sections": [],
   "name": "data_preprocessing.ipynb",
   "provenance": []
  },
  "kernelspec": {
   "display_name": "Python 3 (ipykernel)",
   "language": "python",
   "name": "python3"
  },
  "language_info": {
   "codemirror_mode": {
    "name": "ipython",
    "version": 3
   },
   "file_extension": ".py",
   "mimetype": "text/x-python",
   "name": "python",
   "nbconvert_exporter": "python",
   "pygments_lexer": "ipython3",
   "version": "3.8.8"
  }
 },
 "nbformat": 4,
 "nbformat_minor": 1
}
