{
 "cells": [
  {
   "cell_type": "code",
   "execution_count": 18,
   "metadata": {
    "id": "HSEoHeBU3L-_"
   },
   "outputs": [],
   "source": [
    "import os\n",
    "import gzip\n",
    "import shutil\n",
    "from tqdm import tqdm\n",
    "import zipfile\n",
    "import subprocess\n",
    "import sys\n",
    "import pandas as pd\n",
    "import cv2\n",
    "import numpy as np\n",
    "import copy\n",
    "import torch\n",
    "import matplotlib.pyplot as plt"
   ]
  },
  {
   "cell_type": "code",
   "execution_count": 2,
   "metadata": {
    "id": "zPFV8we63f-4"
   },
   "outputs": [],
   "source": [
    "def unzip(data_root, target_root):\n",
    "  for item in tqdm(os.listdir(data_root)):\n",
    "    with zipfile.ZipFile(data_root + item, \"r\") as zip_ref:\n",
    "      zip_ref.extractall(target_root)"
   ]
  },
  {
   "cell_type": "code",
   "execution_count": 3,
   "metadata": {},
   "outputs": [],
   "source": [
    "target_root = 'C:\\\\Users\\\\Admin\\\\Desktop\\\\KohanovDiploma\\\\masksBrats_new\\\\'\n",
    "os.mkdir(target_root)\n",
    "for item in os.listdir('C:\\\\Users\\\\Admin\\\\Downloads\\\\masksBrats'):\n",
    "    os.chdir(target_root)\n",
    "    os.mkdir(f'{item[:-7]}')\n",
    "    os.chdir(f'{item[:-7]}')\n",
    "    shutil.copyfile('C:\\\\Users\\\\Admin\\\\Downloads\\\\masksBrats\\\\' + item, item[:-7] + '_seg.nii.gz')"
   ]
  },
  {
   "cell_type": "code",
   "execution_count": 22,
   "metadata": {},
   "outputs": [],
   "source": [
    "for fold in os.listdir('C:\\\\Users\\\\Admin\\\\Desktop\\\\KohanovDiploma\\\\BraTS\\\\MICCAI_BraTS2020_ValidationData'):\n",
    "    if not os.path.isfile('C:\\\\Users\\\\Admin\\\\Desktop\\\\KohanovDiploma\\\\BraTS\\\\MICCAI_BraTS2020_ValidationData\\\\' + fold + f'\\\\{fold}_seg.nii.gz'):\n",
    "        shutil.rmtree('C:\\\\Users\\\\Admin\\\\Desktop\\\\KohanovDiploma\\\\BraTS\\\\MICCAI_BraTS2020_ValidationData\\\\' + fold)\n",
    "    "
   ]
  },
  {
   "cell_type": "code",
   "execution_count": null,
   "metadata": {
    "colab": {
     "base_uri": "https://localhost:8080/"
    },
    "id": "ic5J71wc4vun",
    "outputId": "9ef1ba9b-70d3-4674-f52f-3d8ab813feac"
   },
   "outputs": [
    {
     "name": "stderr",
     "output_type": "stream",
     "text": [
      "100%|██████████| 2/2 [02:29<00:00, 74.83s/it]\n"
     ]
    }
   ],
   "source": [
    "data_root = '/content/drive/Shareddrives/BraTS/'\n",
    "work_data = '/content/drive/MyDrive/BraTS_for_kirill/'\n",
    "unzip(data_root, work_data)"
   ]
  },
  {
   "cell_type": "code",
   "execution_count": 2,
   "metadata": {
    "colab": {
     "base_uri": "https://localhost:8080/"
    },
    "id": "MOaYuw1nQ85m",
    "outputId": "13e51aca-56fb-4124-f278-c5488c40524b"
   },
   "outputs": [],
   "source": [
    "import nibabel as nib"
   ]
  },
  {
   "cell_type": "code",
   "execution_count": 20,
   "metadata": {
    "id": "sOLWz1YkNP3U"
   },
   "outputs": [],
   "source": [
    "def niigz_to_images(data_root, modal):\n",
    "    for folder in tqdm(os.listdir(data_root)):\n",
    "        if os.path.isdir(data_root + folder):\n",
    "            os.chdir(data_root + folder)\n",
    "            filename = f'{folder}_{modal}.nii.gz'\n",
    "            if os.path.isfile(filename): \n",
    "                images = nib.load(filename).get_data()\n",
    "                if not os.path.isdir(f'{modal}'):\n",
    "                    os.mkdir(f'{modal}')\n",
    "                for j in range(images.shape[2]):\n",
    "                    image = images[:,:,j]\n",
    "                    if modal == 'seg':\n",
    "                        temp = torch.zeros((240,240,3))\n",
    "\n",
    "                        mask1 = copy.copy(image)\n",
    "                        mask1 = np.uint8(mask1)\n",
    "                        mask1 = torch.tensor(mask1)\n",
    "                        mask1.apply_(lambda x: 1 if x==3 else 0)  # 4\n",
    "\n",
    "                        mask2 = copy.copy(image)\n",
    "                        mask2 = np.uint8(mask2)\n",
    "                        mask2 = torch.tensor(mask2)\n",
    "                        mask2.apply_(lambda x: 1 if x==1 else 0)  # 2\n",
    "\n",
    "                        mask3 = copy.copy(image)\n",
    "                        mask3 = np.uint8(mask3)\n",
    "                        mask3 = torch.tensor(mask3)\n",
    "                        mask3.apply_(lambda x: 1 if x==2 else 0)  # 1\n",
    "\n",
    "                        temp[:,:,0] = mask1\n",
    "                        temp[:,:,1] = mask2\n",
    "                        temp[:,:,2] = mask3\n",
    "\n",
    "                        image = np.asarray(temp)\n",
    "                        image = image * 255\n",
    "                    else:\n",
    "                        rescale = 255/max(np.unique(np.asarray(image)))\n",
    "                        image = image * rescale\n",
    "                    cv2.imwrite(data_root + folder + f'/{modal}/{j}.png', image)\n",
    "                else:\n",
    "                    continue"
   ]
  },
  {
   "cell_type": "code",
   "execution_count": 21,
   "metadata": {
    "scrolled": true
   },
   "outputs": [],
   "source": [
    "data_root = 'C:\\\\Users\\\\Admin\\\\Desktop\\\\KohanovDiploma\\\\BraTS\\\\MICCAI_BraTS2020_TrainingData\\\\'\n",
    "val_root = 'C:\\\\Users\\\\Admin\\\\Desktop\\\\KohanovDiploma\\\\BraTS\\\\MICCAI_BraTS2020_ValidationData\\\\'"
   ]
  },
  {
   "cell_type": "code",
   "execution_count": 23,
   "metadata": {
    "colab": {
     "base_uri": "https://localhost:8080/",
     "height": 1000
    },
    "id": "eAkb5sUOAklN",
    "outputId": "d767cabc-e98a-42eb-c806-42d12cb56c1b"
   },
   "outputs": [
    {
     "name": "stderr",
     "output_type": "stream",
     "text": [
      "  0%|                                                                                           | 0/81 [00:00<?, ?it/s]<ipython-input-20-7f555f220074>:10: DeprecationWarning: get_data() is deprecated in favor of get_fdata(), which has a more predictable return type. To obtain get_data() behavior going forward, use numpy.asanyarray(img.dataobj).\n",
      "\n",
      "* deprecated from version: 3.0\n",
      "* Will raise <class 'nibabel.deprecator.ExpiredDeprecationError'> as of version: 5.0\n",
      "  images = nib.load(filename).get_data()\n"
     ]
    },
    {
     "name": "stdout",
     "output_type": "stream",
     "text": [
      "BraTS20_Validation_001\n",
      "C:\\Users\\Admin\\Desktop\\KohanovDiploma\\BraTS\\MICCAI_BraTS2020_ValidationData\\BraTS20_Validation_001\n",
      "C:\\Users\\Admin\\Desktop\\KohanovDiploma\\BraTS\\MICCAI_BraTS2020_ValidationData\\BraTS20_Validation_001BraTS20_Validation_001_seg.nii.gz\n"
     ]
    },
    {
     "name": "stderr",
     "output_type": "stream",
     "text": [
      "\r",
      "  1%|█                                                                                  | 1/81 [00:03<04:16,  3.20s/it]"
     ]
    },
    {
     "name": "stdout",
     "output_type": "stream",
     "text": [
      "BraTS20_Validation_002\n",
      "C:\\Users\\Admin\\Desktop\\KohanovDiploma\\BraTS\\MICCAI_BraTS2020_ValidationData\\BraTS20_Validation_002\n",
      "C:\\Users\\Admin\\Desktop\\KohanovDiploma\\BraTS\\MICCAI_BraTS2020_ValidationData\\BraTS20_Validation_002BraTS20_Validation_002_seg.nii.gz\n"
     ]
    },
    {
     "name": "stderr",
     "output_type": "stream",
     "text": [
      "\r",
      "  2%|██                                                                                 | 2/81 [00:06<03:58,  3.02s/it]"
     ]
    },
    {
     "name": "stdout",
     "output_type": "stream",
     "text": [
      "BraTS20_Validation_003\n",
      "C:\\Users\\Admin\\Desktop\\KohanovDiploma\\BraTS\\MICCAI_BraTS2020_ValidationData\\BraTS20_Validation_003\n",
      "C:\\Users\\Admin\\Desktop\\KohanovDiploma\\BraTS\\MICCAI_BraTS2020_ValidationData\\BraTS20_Validation_003BraTS20_Validation_003_seg.nii.gz\n"
     ]
    },
    {
     "name": "stderr",
     "output_type": "stream",
     "text": [
      "\r",
      "  4%|███                                                                                | 3/81 [00:09<03:52,  2.98s/it]"
     ]
    },
    {
     "name": "stdout",
     "output_type": "stream",
     "text": [
      "BraTS20_Validation_007\n",
      "C:\\Users\\Admin\\Desktop\\KohanovDiploma\\BraTS\\MICCAI_BraTS2020_ValidationData\\BraTS20_Validation_007\n",
      "C:\\Users\\Admin\\Desktop\\KohanovDiploma\\BraTS\\MICCAI_BraTS2020_ValidationData\\BraTS20_Validation_007BraTS20_Validation_007_seg.nii.gz\n"
     ]
    },
    {
     "name": "stderr",
     "output_type": "stream",
     "text": [
      "\r",
      "  5%|████                                                                               | 4/81 [00:11<03:46,  2.95s/it]"
     ]
    },
    {
     "name": "stdout",
     "output_type": "stream",
     "text": [
      "BraTS20_Validation_008\n",
      "C:\\Users\\Admin\\Desktop\\KohanovDiploma\\BraTS\\MICCAI_BraTS2020_ValidationData\\BraTS20_Validation_008\n",
      "C:\\Users\\Admin\\Desktop\\KohanovDiploma\\BraTS\\MICCAI_BraTS2020_ValidationData\\BraTS20_Validation_008BraTS20_Validation_008_seg.nii.gz\n"
     ]
    },
    {
     "name": "stderr",
     "output_type": "stream",
     "text": [
      "\r",
      "  6%|█████                                                                              | 5/81 [00:14<03:46,  2.98s/it]"
     ]
    },
    {
     "name": "stdout",
     "output_type": "stream",
     "text": [
      "BraTS20_Validation_010\n",
      "C:\\Users\\Admin\\Desktop\\KohanovDiploma\\BraTS\\MICCAI_BraTS2020_ValidationData\\BraTS20_Validation_010\n",
      "C:\\Users\\Admin\\Desktop\\KohanovDiploma\\BraTS\\MICCAI_BraTS2020_ValidationData\\BraTS20_Validation_010BraTS20_Validation_010_seg.nii.gz\n"
     ]
    },
    {
     "name": "stderr",
     "output_type": "stream",
     "text": [
      "\r",
      "  7%|██████▏                                                                            | 6/81 [00:17<03:42,  2.97s/it]"
     ]
    },
    {
     "name": "stdout",
     "output_type": "stream",
     "text": [
      "BraTS20_Validation_011\n",
      "C:\\Users\\Admin\\Desktop\\KohanovDiploma\\BraTS\\MICCAI_BraTS2020_ValidationData\\BraTS20_Validation_011\n",
      "C:\\Users\\Admin\\Desktop\\KohanovDiploma\\BraTS\\MICCAI_BraTS2020_ValidationData\\BraTS20_Validation_011BraTS20_Validation_011_seg.nii.gz\n"
     ]
    },
    {
     "name": "stderr",
     "output_type": "stream",
     "text": [
      "\r",
      "  9%|███████▏                                                                           | 7/81 [00:20<03:40,  2.98s/it]"
     ]
    },
    {
     "name": "stdout",
     "output_type": "stream",
     "text": [
      "BraTS20_Validation_012\n",
      "C:\\Users\\Admin\\Desktop\\KohanovDiploma\\BraTS\\MICCAI_BraTS2020_ValidationData\\BraTS20_Validation_012\n",
      "C:\\Users\\Admin\\Desktop\\KohanovDiploma\\BraTS\\MICCAI_BraTS2020_ValidationData\\BraTS20_Validation_012BraTS20_Validation_012_seg.nii.gz\n"
     ]
    },
    {
     "name": "stderr",
     "output_type": "stream",
     "text": [
      "\r",
      " 10%|████████▏                                                                          | 8/81 [00:23<03:36,  2.96s/it]"
     ]
    },
    {
     "name": "stdout",
     "output_type": "stream",
     "text": [
      "BraTS20_Validation_015\n",
      "C:\\Users\\Admin\\Desktop\\KohanovDiploma\\BraTS\\MICCAI_BraTS2020_ValidationData\\BraTS20_Validation_015\n",
      "C:\\Users\\Admin\\Desktop\\KohanovDiploma\\BraTS\\MICCAI_BraTS2020_ValidationData\\BraTS20_Validation_015BraTS20_Validation_015_seg.nii.gz\n"
     ]
    },
    {
     "name": "stderr",
     "output_type": "stream",
     "text": [
      "\r",
      " 11%|█████████▏                                                                         | 9/81 [00:26<03:34,  2.98s/it]"
     ]
    },
    {
     "name": "stdout",
     "output_type": "stream",
     "text": [
      "BraTS20_Validation_017\n",
      "C:\\Users\\Admin\\Desktop\\KohanovDiploma\\BraTS\\MICCAI_BraTS2020_ValidationData\\BraTS20_Validation_017\n",
      "C:\\Users\\Admin\\Desktop\\KohanovDiploma\\BraTS\\MICCAI_BraTS2020_ValidationData\\BraTS20_Validation_017BraTS20_Validation_017_seg.nii.gz\n"
     ]
    },
    {
     "name": "stderr",
     "output_type": "stream",
     "text": [
      "\r",
      " 12%|██████████                                                                        | 10/81 [00:29<03:30,  2.96s/it]"
     ]
    },
    {
     "name": "stdout",
     "output_type": "stream",
     "text": [
      "BraTS20_Validation_018\n",
      "C:\\Users\\Admin\\Desktop\\KohanovDiploma\\BraTS\\MICCAI_BraTS2020_ValidationData\\BraTS20_Validation_018\n",
      "C:\\Users\\Admin\\Desktop\\KohanovDiploma\\BraTS\\MICCAI_BraTS2020_ValidationData\\BraTS20_Validation_018BraTS20_Validation_018_seg.nii.gz\n"
     ]
    },
    {
     "name": "stderr",
     "output_type": "stream",
     "text": [
      "\r",
      " 14%|███████████▏                                                                      | 11/81 [00:32<03:29,  2.99s/it]"
     ]
    },
    {
     "name": "stdout",
     "output_type": "stream",
     "text": [
      "BraTS20_Validation_019\n",
      "C:\\Users\\Admin\\Desktop\\KohanovDiploma\\BraTS\\MICCAI_BraTS2020_ValidationData\\BraTS20_Validation_019\n",
      "C:\\Users\\Admin\\Desktop\\KohanovDiploma\\BraTS\\MICCAI_BraTS2020_ValidationData\\BraTS20_Validation_019BraTS20_Validation_019_seg.nii.gz\n"
     ]
    },
    {
     "name": "stderr",
     "output_type": "stream",
     "text": [
      "\r",
      " 15%|████████████▏                                                                     | 12/81 [00:35<03:26,  2.99s/it]"
     ]
    },
    {
     "name": "stdout",
     "output_type": "stream",
     "text": [
      "BraTS20_Validation_020\n",
      "C:\\Users\\Admin\\Desktop\\KohanovDiploma\\BraTS\\MICCAI_BraTS2020_ValidationData\\BraTS20_Validation_020\n",
      "C:\\Users\\Admin\\Desktop\\KohanovDiploma\\BraTS\\MICCAI_BraTS2020_ValidationData\\BraTS20_Validation_020BraTS20_Validation_020_seg.nii.gz\n"
     ]
    },
    {
     "name": "stderr",
     "output_type": "stream",
     "text": [
      "\r",
      " 16%|█████████████▏                                                                    | 13/81 [00:38<03:21,  2.96s/it]"
     ]
    },
    {
     "name": "stdout",
     "output_type": "stream",
     "text": [
      "BraTS20_Validation_021\n",
      "C:\\Users\\Admin\\Desktop\\KohanovDiploma\\BraTS\\MICCAI_BraTS2020_ValidationData\\BraTS20_Validation_021\n",
      "C:\\Users\\Admin\\Desktop\\KohanovDiploma\\BraTS\\MICCAI_BraTS2020_ValidationData\\BraTS20_Validation_021BraTS20_Validation_021_seg.nii.gz\n"
     ]
    },
    {
     "name": "stderr",
     "output_type": "stream",
     "text": [
      "\r",
      " 17%|██████████████▏                                                                   | 14/81 [00:41<03:21,  3.00s/it]"
     ]
    },
    {
     "name": "stdout",
     "output_type": "stream",
     "text": [
      "BraTS20_Validation_022\n",
      "C:\\Users\\Admin\\Desktop\\KohanovDiploma\\BraTS\\MICCAI_BraTS2020_ValidationData\\BraTS20_Validation_022\n",
      "C:\\Users\\Admin\\Desktop\\KohanovDiploma\\BraTS\\MICCAI_BraTS2020_ValidationData\\BraTS20_Validation_022BraTS20_Validation_022_seg.nii.gz\n"
     ]
    },
    {
     "name": "stderr",
     "output_type": "stream",
     "text": [
      "\r",
      " 19%|███████████████▏                                                                  | 15/81 [00:44<03:18,  3.01s/it]"
     ]
    },
    {
     "name": "stdout",
     "output_type": "stream",
     "text": [
      "BraTS20_Validation_023\n",
      "C:\\Users\\Admin\\Desktop\\KohanovDiploma\\BraTS\\MICCAI_BraTS2020_ValidationData\\BraTS20_Validation_023\n",
      "C:\\Users\\Admin\\Desktop\\KohanovDiploma\\BraTS\\MICCAI_BraTS2020_ValidationData\\BraTS20_Validation_023BraTS20_Validation_023_seg.nii.gz\n"
     ]
    },
    {
     "name": "stderr",
     "output_type": "stream",
     "text": [
      "\r",
      " 20%|████████████████▏                                                                 | 16/81 [00:47<03:16,  3.03s/it]"
     ]
    },
    {
     "name": "stdout",
     "output_type": "stream",
     "text": [
      "BraTS20_Validation_024\n",
      "C:\\Users\\Admin\\Desktop\\KohanovDiploma\\BraTS\\MICCAI_BraTS2020_ValidationData\\BraTS20_Validation_024\n",
      "C:\\Users\\Admin\\Desktop\\KohanovDiploma\\BraTS\\MICCAI_BraTS2020_ValidationData\\BraTS20_Validation_024BraTS20_Validation_024_seg.nii.gz\n"
     ]
    },
    {
     "name": "stderr",
     "output_type": "stream",
     "text": [
      "\r",
      " 21%|█████████████████▏                                                                | 17/81 [00:50<03:11,  2.99s/it]"
     ]
    },
    {
     "name": "stdout",
     "output_type": "stream",
     "text": [
      "BraTS20_Validation_026\n",
      "C:\\Users\\Admin\\Desktop\\KohanovDiploma\\BraTS\\MICCAI_BraTS2020_ValidationData\\BraTS20_Validation_026\n",
      "C:\\Users\\Admin\\Desktop\\KohanovDiploma\\BraTS\\MICCAI_BraTS2020_ValidationData\\BraTS20_Validation_026BraTS20_Validation_026_seg.nii.gz\n"
     ]
    },
    {
     "name": "stderr",
     "output_type": "stream",
     "text": [
      "\r",
      " 22%|██████████████████▏                                                               | 18/81 [00:53<03:07,  2.98s/it]"
     ]
    },
    {
     "name": "stdout",
     "output_type": "stream",
     "text": [
      "BraTS20_Validation_027\n",
      "C:\\Users\\Admin\\Desktop\\KohanovDiploma\\BraTS\\MICCAI_BraTS2020_ValidationData\\BraTS20_Validation_027\n",
      "C:\\Users\\Admin\\Desktop\\KohanovDiploma\\BraTS\\MICCAI_BraTS2020_ValidationData\\BraTS20_Validation_027BraTS20_Validation_027_seg.nii.gz\n"
     ]
    },
    {
     "name": "stderr",
     "output_type": "stream",
     "text": [
      "\r",
      " 23%|███████████████████▏                                                              | 19/81 [00:56<03:06,  3.01s/it]"
     ]
    },
    {
     "name": "stdout",
     "output_type": "stream",
     "text": [
      "BraTS20_Validation_028\n",
      "C:\\Users\\Admin\\Desktop\\KohanovDiploma\\BraTS\\MICCAI_BraTS2020_ValidationData\\BraTS20_Validation_028\n",
      "C:\\Users\\Admin\\Desktop\\KohanovDiploma\\BraTS\\MICCAI_BraTS2020_ValidationData\\BraTS20_Validation_028BraTS20_Validation_028_seg.nii.gz\n"
     ]
    },
    {
     "name": "stderr",
     "output_type": "stream",
     "text": [
      "\r",
      " 25%|████████████████████▏                                                             | 20/81 [01:00<03:09,  3.11s/it]"
     ]
    },
    {
     "name": "stdout",
     "output_type": "stream",
     "text": [
      "BraTS20_Validation_030\n",
      "C:\\Users\\Admin\\Desktop\\KohanovDiploma\\BraTS\\MICCAI_BraTS2020_ValidationData\\BraTS20_Validation_030\n",
      "C:\\Users\\Admin\\Desktop\\KohanovDiploma\\BraTS\\MICCAI_BraTS2020_ValidationData\\BraTS20_Validation_030BraTS20_Validation_030_seg.nii.gz\n"
     ]
    },
    {
     "name": "stderr",
     "output_type": "stream",
     "text": [
      "\r",
      " 26%|█████████████████████▎                                                            | 21/81 [01:03<03:07,  3.13s/it]"
     ]
    },
    {
     "name": "stdout",
     "output_type": "stream",
     "text": [
      "BraTS20_Validation_032\n",
      "C:\\Users\\Admin\\Desktop\\KohanovDiploma\\BraTS\\MICCAI_BraTS2020_ValidationData\\BraTS20_Validation_032\n",
      "C:\\Users\\Admin\\Desktop\\KohanovDiploma\\BraTS\\MICCAI_BraTS2020_ValidationData\\BraTS20_Validation_032BraTS20_Validation_032_seg.nii.gz\n"
     ]
    },
    {
     "name": "stderr",
     "output_type": "stream",
     "text": [
      "\r",
      " 27%|██████████████████████▎                                                           | 22/81 [01:06<03:02,  3.09s/it]"
     ]
    },
    {
     "name": "stdout",
     "output_type": "stream",
     "text": [
      "BraTS20_Validation_034\n",
      "C:\\Users\\Admin\\Desktop\\KohanovDiploma\\BraTS\\MICCAI_BraTS2020_ValidationData\\BraTS20_Validation_034\n",
      "C:\\Users\\Admin\\Desktop\\KohanovDiploma\\BraTS\\MICCAI_BraTS2020_ValidationData\\BraTS20_Validation_034BraTS20_Validation_034_seg.nii.gz\n"
     ]
    },
    {
     "name": "stderr",
     "output_type": "stream",
     "text": [
      "\r",
      " 28%|███████████████████████▎                                                          | 23/81 [01:09<02:56,  3.05s/it]"
     ]
    },
    {
     "name": "stdout",
     "output_type": "stream",
     "text": [
      "BraTS20_Validation_036\n",
      "C:\\Users\\Admin\\Desktop\\KohanovDiploma\\BraTS\\MICCAI_BraTS2020_ValidationData\\BraTS20_Validation_036\n",
      "C:\\Users\\Admin\\Desktop\\KohanovDiploma\\BraTS\\MICCAI_BraTS2020_ValidationData\\BraTS20_Validation_036BraTS20_Validation_036_seg.nii.gz\n"
     ]
    },
    {
     "name": "stderr",
     "output_type": "stream",
     "text": [
      "\r",
      " 30%|████████████████████████▎                                                         | 24/81 [01:12<02:53,  3.04s/it]"
     ]
    },
    {
     "name": "stdout",
     "output_type": "stream",
     "text": [
      "BraTS20_Validation_037\n",
      "C:\\Users\\Admin\\Desktop\\KohanovDiploma\\BraTS\\MICCAI_BraTS2020_ValidationData\\BraTS20_Validation_037\n",
      "C:\\Users\\Admin\\Desktop\\KohanovDiploma\\BraTS\\MICCAI_BraTS2020_ValidationData\\BraTS20_Validation_037BraTS20_Validation_037_seg.nii.gz\n"
     ]
    },
    {
     "name": "stderr",
     "output_type": "stream",
     "text": [
      "\r",
      " 31%|█████████████████████████▎                                                        | 25/81 [01:15<02:47,  3.00s/it]"
     ]
    },
    {
     "name": "stdout",
     "output_type": "stream",
     "text": [
      "BraTS20_Validation_038\n",
      "C:\\Users\\Admin\\Desktop\\KohanovDiploma\\BraTS\\MICCAI_BraTS2020_ValidationData\\BraTS20_Validation_038\n",
      "C:\\Users\\Admin\\Desktop\\KohanovDiploma\\BraTS\\MICCAI_BraTS2020_ValidationData\\BraTS20_Validation_038BraTS20_Validation_038_seg.nii.gz\n"
     ]
    },
    {
     "name": "stderr",
     "output_type": "stream",
     "text": [
      "\r",
      " 32%|██████████████████████████▎                                                       | 26/81 [01:18<02:46,  3.03s/it]"
     ]
    },
    {
     "name": "stdout",
     "output_type": "stream",
     "text": [
      "BraTS20_Validation_039\n",
      "C:\\Users\\Admin\\Desktop\\KohanovDiploma\\BraTS\\MICCAI_BraTS2020_ValidationData\\BraTS20_Validation_039\n",
      "C:\\Users\\Admin\\Desktop\\KohanovDiploma\\BraTS\\MICCAI_BraTS2020_ValidationData\\BraTS20_Validation_039BraTS20_Validation_039_seg.nii.gz\n"
     ]
    },
    {
     "name": "stderr",
     "output_type": "stream",
     "text": [
      "\r",
      " 33%|███████████████████████████▎                                                      | 27/81 [01:21<02:44,  3.04s/it]"
     ]
    },
    {
     "name": "stdout",
     "output_type": "stream",
     "text": [
      "BraTS20_Validation_040\n",
      "C:\\Users\\Admin\\Desktop\\KohanovDiploma\\BraTS\\MICCAI_BraTS2020_ValidationData\\BraTS20_Validation_040\n",
      "C:\\Users\\Admin\\Desktop\\KohanovDiploma\\BraTS\\MICCAI_BraTS2020_ValidationData\\BraTS20_Validation_040BraTS20_Validation_040_seg.nii.gz\n"
     ]
    },
    {
     "name": "stderr",
     "output_type": "stream",
     "text": [
      "\r",
      " 35%|████████████████████████████▎                                                     | 28/81 [01:24<02:40,  3.03s/it]"
     ]
    },
    {
     "name": "stdout",
     "output_type": "stream",
     "text": [
      "BraTS20_Validation_041\n",
      "C:\\Users\\Admin\\Desktop\\KohanovDiploma\\BraTS\\MICCAI_BraTS2020_ValidationData\\BraTS20_Validation_041\n",
      "C:\\Users\\Admin\\Desktop\\KohanovDiploma\\BraTS\\MICCAI_BraTS2020_ValidationData\\BraTS20_Validation_041BraTS20_Validation_041_seg.nii.gz\n"
     ]
    },
    {
     "name": "stderr",
     "output_type": "stream",
     "text": [
      "\r",
      " 36%|█████████████████████████████▎                                                    | 29/81 [01:27<02:38,  3.05s/it]"
     ]
    },
    {
     "name": "stdout",
     "output_type": "stream",
     "text": [
      "BraTS20_Validation_042\n",
      "C:\\Users\\Admin\\Desktop\\KohanovDiploma\\BraTS\\MICCAI_BraTS2020_ValidationData\\BraTS20_Validation_042\n",
      "C:\\Users\\Admin\\Desktop\\KohanovDiploma\\BraTS\\MICCAI_BraTS2020_ValidationData\\BraTS20_Validation_042BraTS20_Validation_042_seg.nii.gz\n"
     ]
    },
    {
     "name": "stderr",
     "output_type": "stream",
     "text": [
      "\r",
      " 37%|██████████████████████████████▎                                                   | 30/81 [01:30<02:33,  3.00s/it]"
     ]
    },
    {
     "name": "stdout",
     "output_type": "stream",
     "text": [
      "BraTS20_Validation_043\n",
      "C:\\Users\\Admin\\Desktop\\KohanovDiploma\\BraTS\\MICCAI_BraTS2020_ValidationData\\BraTS20_Validation_043\n",
      "C:\\Users\\Admin\\Desktop\\KohanovDiploma\\BraTS\\MICCAI_BraTS2020_ValidationData\\BraTS20_Validation_043BraTS20_Validation_043_seg.nii.gz\n"
     ]
    },
    {
     "name": "stderr",
     "output_type": "stream",
     "text": [
      "\r",
      " 38%|███████████████████████████████▍                                                  | 31/81 [01:33<02:27,  2.96s/it]"
     ]
    },
    {
     "name": "stdout",
     "output_type": "stream",
     "text": [
      "BraTS20_Validation_044\n",
      "C:\\Users\\Admin\\Desktop\\KohanovDiploma\\BraTS\\MICCAI_BraTS2020_ValidationData\\BraTS20_Validation_044\n",
      "C:\\Users\\Admin\\Desktop\\KohanovDiploma\\BraTS\\MICCAI_BraTS2020_ValidationData\\BraTS20_Validation_044BraTS20_Validation_044_seg.nii.gz\n"
     ]
    },
    {
     "name": "stderr",
     "output_type": "stream",
     "text": [
      "\r",
      " 40%|████████████████████████████████▍                                                 | 32/81 [01:36<02:28,  3.03s/it]"
     ]
    },
    {
     "name": "stdout",
     "output_type": "stream",
     "text": [
      "BraTS20_Validation_045\n",
      "C:\\Users\\Admin\\Desktop\\KohanovDiploma\\BraTS\\MICCAI_BraTS2020_ValidationData\\BraTS20_Validation_045\n",
      "C:\\Users\\Admin\\Desktop\\KohanovDiploma\\BraTS\\MICCAI_BraTS2020_ValidationData\\BraTS20_Validation_045BraTS20_Validation_045_seg.nii.gz\n"
     ]
    },
    {
     "name": "stderr",
     "output_type": "stream",
     "text": [
      "\r",
      " 41%|█████████████████████████████████▍                                                | 33/81 [01:39<02:26,  3.05s/it]"
     ]
    },
    {
     "name": "stdout",
     "output_type": "stream",
     "text": [
      "BraTS20_Validation_047\n",
      "C:\\Users\\Admin\\Desktop\\KohanovDiploma\\BraTS\\MICCAI_BraTS2020_ValidationData\\BraTS20_Validation_047\n",
      "C:\\Users\\Admin\\Desktop\\KohanovDiploma\\BraTS\\MICCAI_BraTS2020_ValidationData\\BraTS20_Validation_047BraTS20_Validation_047_seg.nii.gz\n"
     ]
    },
    {
     "name": "stderr",
     "output_type": "stream",
     "text": [
      "\r",
      " 42%|██████████████████████████████████▍                                               | 34/81 [01:42<02:22,  3.02s/it]"
     ]
    },
    {
     "name": "stdout",
     "output_type": "stream",
     "text": [
      "BraTS20_Validation_048\n",
      "C:\\Users\\Admin\\Desktop\\KohanovDiploma\\BraTS\\MICCAI_BraTS2020_ValidationData\\BraTS20_Validation_048\n",
      "C:\\Users\\Admin\\Desktop\\KohanovDiploma\\BraTS\\MICCAI_BraTS2020_ValidationData\\BraTS20_Validation_048BraTS20_Validation_048_seg.nii.gz\n"
     ]
    },
    {
     "name": "stderr",
     "output_type": "stream",
     "text": [
      "\r",
      " 43%|███████████████████████████████████▍                                              | 35/81 [01:45<02:19,  3.04s/it]"
     ]
    },
    {
     "name": "stdout",
     "output_type": "stream",
     "text": [
      "BraTS20_Validation_049\n",
      "C:\\Users\\Admin\\Desktop\\KohanovDiploma\\BraTS\\MICCAI_BraTS2020_ValidationData\\BraTS20_Validation_049\n",
      "C:\\Users\\Admin\\Desktop\\KohanovDiploma\\BraTS\\MICCAI_BraTS2020_ValidationData\\BraTS20_Validation_049BraTS20_Validation_049_seg.nii.gz\n"
     ]
    },
    {
     "name": "stderr",
     "output_type": "stream",
     "text": [
      "\r",
      " 44%|████████████████████████████████████▍                                             | 36/81 [01:48<02:16,  3.03s/it]"
     ]
    },
    {
     "name": "stdout",
     "output_type": "stream",
     "text": [
      "BraTS20_Validation_050\n",
      "C:\\Users\\Admin\\Desktop\\KohanovDiploma\\BraTS\\MICCAI_BraTS2020_ValidationData\\BraTS20_Validation_050\n",
      "C:\\Users\\Admin\\Desktop\\KohanovDiploma\\BraTS\\MICCAI_BraTS2020_ValidationData\\BraTS20_Validation_050BraTS20_Validation_050_seg.nii.gz\n"
     ]
    },
    {
     "name": "stderr",
     "output_type": "stream",
     "text": [
      "\r",
      " 46%|█████████████████████████████████████▍                                            | 37/81 [01:51<02:12,  3.01s/it]"
     ]
    },
    {
     "name": "stdout",
     "output_type": "stream",
     "text": [
      "BraTS20_Validation_051\n",
      "C:\\Users\\Admin\\Desktop\\KohanovDiploma\\BraTS\\MICCAI_BraTS2020_ValidationData\\BraTS20_Validation_051\n",
      "C:\\Users\\Admin\\Desktop\\KohanovDiploma\\BraTS\\MICCAI_BraTS2020_ValidationData\\BraTS20_Validation_051BraTS20_Validation_051_seg.nii.gz\n"
     ]
    },
    {
     "name": "stderr",
     "output_type": "stream",
     "text": [
      "\r",
      " 47%|██████████████████████████████████████▍                                           | 38/81 [01:54<02:08,  2.99s/it]"
     ]
    },
    {
     "name": "stdout",
     "output_type": "stream",
     "text": [
      "BraTS20_Validation_053\n",
      "C:\\Users\\Admin\\Desktop\\KohanovDiploma\\BraTS\\MICCAI_BraTS2020_ValidationData\\BraTS20_Validation_053\n",
      "C:\\Users\\Admin\\Desktop\\KohanovDiploma\\BraTS\\MICCAI_BraTS2020_ValidationData\\BraTS20_Validation_053BraTS20_Validation_053_seg.nii.gz\n"
     ]
    },
    {
     "name": "stderr",
     "output_type": "stream",
     "text": [
      "\r",
      " 48%|███████████████████████████████████████▍                                          | 39/81 [01:57<02:04,  2.97s/it]"
     ]
    },
    {
     "name": "stdout",
     "output_type": "stream",
     "text": [
      "BraTS20_Validation_054\n",
      "C:\\Users\\Admin\\Desktop\\KohanovDiploma\\BraTS\\MICCAI_BraTS2020_ValidationData\\BraTS20_Validation_054\n",
      "C:\\Users\\Admin\\Desktop\\KohanovDiploma\\BraTS\\MICCAI_BraTS2020_ValidationData\\BraTS20_Validation_054BraTS20_Validation_054_seg.nii.gz\n"
     ]
    },
    {
     "name": "stderr",
     "output_type": "stream",
     "text": [
      "\r",
      " 49%|████████████████████████████████████████▍                                         | 40/81 [02:00<02:00,  2.95s/it]"
     ]
    },
    {
     "name": "stdout",
     "output_type": "stream",
     "text": [
      "BraTS20_Validation_055\n",
      "C:\\Users\\Admin\\Desktop\\KohanovDiploma\\BraTS\\MICCAI_BraTS2020_ValidationData\\BraTS20_Validation_055\n",
      "C:\\Users\\Admin\\Desktop\\KohanovDiploma\\BraTS\\MICCAI_BraTS2020_ValidationData\\BraTS20_Validation_055BraTS20_Validation_055_seg.nii.gz\n"
     ]
    },
    {
     "name": "stderr",
     "output_type": "stream",
     "text": [
      "\r",
      " 51%|█████████████████████████████████████████▌                                        | 41/81 [02:03<01:58,  2.96s/it]"
     ]
    },
    {
     "name": "stdout",
     "output_type": "stream",
     "text": [
      "BraTS20_Validation_056\n",
      "C:\\Users\\Admin\\Desktop\\KohanovDiploma\\BraTS\\MICCAI_BraTS2020_ValidationData\\BraTS20_Validation_056\n",
      "C:\\Users\\Admin\\Desktop\\KohanovDiploma\\BraTS\\MICCAI_BraTS2020_ValidationData\\BraTS20_Validation_056BraTS20_Validation_056_seg.nii.gz\n"
     ]
    },
    {
     "name": "stderr",
     "output_type": "stream",
     "text": [
      "\r",
      " 52%|██████████████████████████████████████████▌                                       | 42/81 [02:06<01:56,  2.98s/it]"
     ]
    },
    {
     "name": "stdout",
     "output_type": "stream",
     "text": [
      "BraTS20_Validation_057\n",
      "C:\\Users\\Admin\\Desktop\\KohanovDiploma\\BraTS\\MICCAI_BraTS2020_ValidationData\\BraTS20_Validation_057\n",
      "C:\\Users\\Admin\\Desktop\\KohanovDiploma\\BraTS\\MICCAI_BraTS2020_ValidationData\\BraTS20_Validation_057BraTS20_Validation_057_seg.nii.gz\n"
     ]
    },
    {
     "name": "stderr",
     "output_type": "stream",
     "text": [
      "\r",
      " 53%|███████████████████████████████████████████▌                                      | 43/81 [02:09<01:53,  2.98s/it]"
     ]
    },
    {
     "name": "stdout",
     "output_type": "stream",
     "text": [
      "BraTS20_Validation_058\n",
      "C:\\Users\\Admin\\Desktop\\KohanovDiploma\\BraTS\\MICCAI_BraTS2020_ValidationData\\BraTS20_Validation_058\n",
      "C:\\Users\\Admin\\Desktop\\KohanovDiploma\\BraTS\\MICCAI_BraTS2020_ValidationData\\BraTS20_Validation_058BraTS20_Validation_058_seg.nii.gz\n"
     ]
    },
    {
     "name": "stderr",
     "output_type": "stream",
     "text": [
      "\r",
      " 54%|████████████████████████████████████████████▌                                     | 44/81 [02:12<01:53,  3.06s/it]"
     ]
    },
    {
     "name": "stdout",
     "output_type": "stream",
     "text": [
      "BraTS20_Validation_059\n",
      "C:\\Users\\Admin\\Desktop\\KohanovDiploma\\BraTS\\MICCAI_BraTS2020_ValidationData\\BraTS20_Validation_059\n",
      "C:\\Users\\Admin\\Desktop\\KohanovDiploma\\BraTS\\MICCAI_BraTS2020_ValidationData\\BraTS20_Validation_059BraTS20_Validation_059_seg.nii.gz\n"
     ]
    },
    {
     "name": "stderr",
     "output_type": "stream",
     "text": [
      "\r",
      " 56%|█████████████████████████████████████████████▌                                    | 45/81 [02:15<01:50,  3.07s/it]"
     ]
    },
    {
     "name": "stdout",
     "output_type": "stream",
     "text": [
      "BraTS20_Validation_060\n",
      "C:\\Users\\Admin\\Desktop\\KohanovDiploma\\BraTS\\MICCAI_BraTS2020_ValidationData\\BraTS20_Validation_060\n",
      "C:\\Users\\Admin\\Desktop\\KohanovDiploma\\BraTS\\MICCAI_BraTS2020_ValidationData\\BraTS20_Validation_060BraTS20_Validation_060_seg.nii.gz\n"
     ]
    },
    {
     "name": "stderr",
     "output_type": "stream",
     "text": [
      "\r",
      " 57%|██████████████████████████████████████████████▌                                   | 46/81 [02:18<01:46,  3.05s/it]"
     ]
    },
    {
     "name": "stdout",
     "output_type": "stream",
     "text": [
      "BraTS20_Validation_061\n",
      "C:\\Users\\Admin\\Desktop\\KohanovDiploma\\BraTS\\MICCAI_BraTS2020_ValidationData\\BraTS20_Validation_061\n",
      "C:\\Users\\Admin\\Desktop\\KohanovDiploma\\BraTS\\MICCAI_BraTS2020_ValidationData\\BraTS20_Validation_061BraTS20_Validation_061_seg.nii.gz\n"
     ]
    },
    {
     "name": "stderr",
     "output_type": "stream",
     "text": [
      "\r",
      " 58%|███████████████████████████████████████████████▌                                  | 47/81 [02:21<01:43,  3.05s/it]"
     ]
    },
    {
     "name": "stdout",
     "output_type": "stream",
     "text": [
      "BraTS20_Validation_063\n",
      "C:\\Users\\Admin\\Desktop\\KohanovDiploma\\BraTS\\MICCAI_BraTS2020_ValidationData\\BraTS20_Validation_063\n",
      "C:\\Users\\Admin\\Desktop\\KohanovDiploma\\BraTS\\MICCAI_BraTS2020_ValidationData\\BraTS20_Validation_063BraTS20_Validation_063_seg.nii.gz\n"
     ]
    },
    {
     "name": "stderr",
     "output_type": "stream",
     "text": [
      "\r",
      " 59%|████████████████████████████████████████████████▌                                 | 48/81 [02:24<01:40,  3.04s/it]"
     ]
    },
    {
     "name": "stdout",
     "output_type": "stream",
     "text": [
      "BraTS20_Validation_064\n",
      "C:\\Users\\Admin\\Desktop\\KohanovDiploma\\BraTS\\MICCAI_BraTS2020_ValidationData\\BraTS20_Validation_064\n",
      "C:\\Users\\Admin\\Desktop\\KohanovDiploma\\BraTS\\MICCAI_BraTS2020_ValidationData\\BraTS20_Validation_064BraTS20_Validation_064_seg.nii.gz\n"
     ]
    },
    {
     "name": "stderr",
     "output_type": "stream",
     "text": [
      "\r",
      " 60%|█████████████████████████████████████████████████▌                                | 49/81 [02:27<01:38,  3.07s/it]"
     ]
    },
    {
     "name": "stdout",
     "output_type": "stream",
     "text": [
      "BraTS20_Validation_065\n",
      "C:\\Users\\Admin\\Desktop\\KohanovDiploma\\BraTS\\MICCAI_BraTS2020_ValidationData\\BraTS20_Validation_065\n",
      "C:\\Users\\Admin\\Desktop\\KohanovDiploma\\BraTS\\MICCAI_BraTS2020_ValidationData\\BraTS20_Validation_065BraTS20_Validation_065_seg.nii.gz\n"
     ]
    },
    {
     "name": "stderr",
     "output_type": "stream",
     "text": [
      "\r",
      " 62%|██████████████████████████████████████████████████▌                               | 50/81 [02:30<01:35,  3.08s/it]"
     ]
    },
    {
     "name": "stdout",
     "output_type": "stream",
     "text": [
      "BraTS20_Validation_067\n",
      "C:\\Users\\Admin\\Desktop\\KohanovDiploma\\BraTS\\MICCAI_BraTS2020_ValidationData\\BraTS20_Validation_067\n",
      "C:\\Users\\Admin\\Desktop\\KohanovDiploma\\BraTS\\MICCAI_BraTS2020_ValidationData\\BraTS20_Validation_067BraTS20_Validation_067_seg.nii.gz\n"
     ]
    },
    {
     "name": "stderr",
     "output_type": "stream",
     "text": [
      "\r",
      " 63%|███████████████████████████████████████████████████▋                              | 51/81 [02:34<01:33,  3.11s/it]"
     ]
    },
    {
     "name": "stdout",
     "output_type": "stream",
     "text": [
      "BraTS20_Validation_068\n",
      "C:\\Users\\Admin\\Desktop\\KohanovDiploma\\BraTS\\MICCAI_BraTS2020_ValidationData\\BraTS20_Validation_068\n",
      "C:\\Users\\Admin\\Desktop\\KohanovDiploma\\BraTS\\MICCAI_BraTS2020_ValidationData\\BraTS20_Validation_068BraTS20_Validation_068_seg.nii.gz\n"
     ]
    },
    {
     "name": "stderr",
     "output_type": "stream",
     "text": [
      "\r",
      " 64%|████████████████████████████████████████████████████▋                             | 52/81 [02:37<01:28,  3.06s/it]"
     ]
    },
    {
     "name": "stdout",
     "output_type": "stream",
     "text": [
      "BraTS20_Validation_071\n",
      "C:\\Users\\Admin\\Desktop\\KohanovDiploma\\BraTS\\MICCAI_BraTS2020_ValidationData\\BraTS20_Validation_071\n",
      "C:\\Users\\Admin\\Desktop\\KohanovDiploma\\BraTS\\MICCAI_BraTS2020_ValidationData\\BraTS20_Validation_071BraTS20_Validation_071_seg.nii.gz\n"
     ]
    },
    {
     "name": "stderr",
     "output_type": "stream",
     "text": [
      "\r",
      " 65%|█████████████████████████████████████████████████████▋                            | 53/81 [02:40<01:25,  3.06s/it]"
     ]
    },
    {
     "name": "stdout",
     "output_type": "stream",
     "text": [
      "BraTS20_Validation_077\n",
      "C:\\Users\\Admin\\Desktop\\KohanovDiploma\\BraTS\\MICCAI_BraTS2020_ValidationData\\BraTS20_Validation_077\n",
      "C:\\Users\\Admin\\Desktop\\KohanovDiploma\\BraTS\\MICCAI_BraTS2020_ValidationData\\BraTS20_Validation_077BraTS20_Validation_077_seg.nii.gz\n"
     ]
    },
    {
     "name": "stderr",
     "output_type": "stream",
     "text": [
      "\r",
      " 67%|██████████████████████████████████████████████████████▋                           | 54/81 [02:43<01:23,  3.08s/it]"
     ]
    },
    {
     "name": "stdout",
     "output_type": "stream",
     "text": [
      "BraTS20_Validation_083\n",
      "C:\\Users\\Admin\\Desktop\\KohanovDiploma\\BraTS\\MICCAI_BraTS2020_ValidationData\\BraTS20_Validation_083\n",
      "C:\\Users\\Admin\\Desktop\\KohanovDiploma\\BraTS\\MICCAI_BraTS2020_ValidationData\\BraTS20_Validation_083BraTS20_Validation_083_seg.nii.gz\n"
     ]
    },
    {
     "name": "stderr",
     "output_type": "stream",
     "text": [
      "\r",
      " 68%|███████████████████████████████████████████████████████▋                          | 55/81 [02:46<01:18,  3.02s/it]"
     ]
    },
    {
     "name": "stdout",
     "output_type": "stream",
     "text": [
      "BraTS20_Validation_085\n",
      "C:\\Users\\Admin\\Desktop\\KohanovDiploma\\BraTS\\MICCAI_BraTS2020_ValidationData\\BraTS20_Validation_085\n",
      "C:\\Users\\Admin\\Desktop\\KohanovDiploma\\BraTS\\MICCAI_BraTS2020_ValidationData\\BraTS20_Validation_085BraTS20_Validation_085_seg.nii.gz\n"
     ]
    },
    {
     "name": "stderr",
     "output_type": "stream",
     "text": [
      "\r",
      " 69%|████████████████████████████████████████████████████████▋                         | 56/81 [02:49<01:15,  3.03s/it]"
     ]
    },
    {
     "name": "stdout",
     "output_type": "stream",
     "text": [
      "BraTS20_Validation_086\n",
      "C:\\Users\\Admin\\Desktop\\KohanovDiploma\\BraTS\\MICCAI_BraTS2020_ValidationData\\BraTS20_Validation_086\n",
      "C:\\Users\\Admin\\Desktop\\KohanovDiploma\\BraTS\\MICCAI_BraTS2020_ValidationData\\BraTS20_Validation_086BraTS20_Validation_086_seg.nii.gz\n"
     ]
    },
    {
     "name": "stderr",
     "output_type": "stream",
     "text": [
      "\r",
      " 70%|█████████████████████████████████████████████████████████▋                        | 57/81 [02:52<01:12,  3.04s/it]"
     ]
    },
    {
     "name": "stdout",
     "output_type": "stream",
     "text": [
      "BraTS20_Validation_089\n",
      "C:\\Users\\Admin\\Desktop\\KohanovDiploma\\BraTS\\MICCAI_BraTS2020_ValidationData\\BraTS20_Validation_089\n",
      "C:\\Users\\Admin\\Desktop\\KohanovDiploma\\BraTS\\MICCAI_BraTS2020_ValidationData\\BraTS20_Validation_089BraTS20_Validation_089_seg.nii.gz\n"
     ]
    },
    {
     "name": "stderr",
     "output_type": "stream",
     "text": [
      "\r",
      " 72%|██████████████████████████████████████████████████████████▋                       | 58/81 [02:55<01:08,  3.00s/it]"
     ]
    },
    {
     "name": "stdout",
     "output_type": "stream",
     "text": [
      "BraTS20_Validation_091\n",
      "C:\\Users\\Admin\\Desktop\\KohanovDiploma\\BraTS\\MICCAI_BraTS2020_ValidationData\\BraTS20_Validation_091\n",
      "C:\\Users\\Admin\\Desktop\\KohanovDiploma\\BraTS\\MICCAI_BraTS2020_ValidationData\\BraTS20_Validation_091BraTS20_Validation_091_seg.nii.gz\n"
     ]
    },
    {
     "name": "stderr",
     "output_type": "stream",
     "text": [
      "\r",
      " 73%|███████████████████████████████████████████████████████████▋                      | 59/81 [02:58<01:05,  2.99s/it]"
     ]
    },
    {
     "name": "stdout",
     "output_type": "stream",
     "text": [
      "BraTS20_Validation_092\n",
      "C:\\Users\\Admin\\Desktop\\KohanovDiploma\\BraTS\\MICCAI_BraTS2020_ValidationData\\BraTS20_Validation_092\n",
      "C:\\Users\\Admin\\Desktop\\KohanovDiploma\\BraTS\\MICCAI_BraTS2020_ValidationData\\BraTS20_Validation_092BraTS20_Validation_092_seg.nii.gz\n"
     ]
    },
    {
     "name": "stderr",
     "output_type": "stream",
     "text": [
      "\r",
      " 74%|████████████████████████████████████████████████████████████▋                     | 60/81 [03:01<01:03,  3.00s/it]"
     ]
    },
    {
     "name": "stdout",
     "output_type": "stream",
     "text": [
      "BraTS20_Validation_093\n",
      "C:\\Users\\Admin\\Desktop\\KohanovDiploma\\BraTS\\MICCAI_BraTS2020_ValidationData\\BraTS20_Validation_093\n",
      "C:\\Users\\Admin\\Desktop\\KohanovDiploma\\BraTS\\MICCAI_BraTS2020_ValidationData\\BraTS20_Validation_093BraTS20_Validation_093_seg.nii.gz\n"
     ]
    },
    {
     "name": "stderr",
     "output_type": "stream",
     "text": [
      "\r",
      " 75%|█████████████████████████████████████████████████████████████▊                    | 61/81 [03:04<00:59,  2.97s/it]"
     ]
    },
    {
     "name": "stdout",
     "output_type": "stream",
     "text": [
      "BraTS20_Validation_094\n",
      "C:\\Users\\Admin\\Desktop\\KohanovDiploma\\BraTS\\MICCAI_BraTS2020_ValidationData\\BraTS20_Validation_094\n",
      "C:\\Users\\Admin\\Desktop\\KohanovDiploma\\BraTS\\MICCAI_BraTS2020_ValidationData\\BraTS20_Validation_094BraTS20_Validation_094_seg.nii.gz\n"
     ]
    },
    {
     "name": "stderr",
     "output_type": "stream",
     "text": [
      "\r",
      " 77%|██████████████████████████████████████████████████████████████▊                   | 62/81 [03:07<00:56,  2.99s/it]"
     ]
    },
    {
     "name": "stdout",
     "output_type": "stream",
     "text": [
      "BraTS20_Validation_103\n",
      "C:\\Users\\Admin\\Desktop\\KohanovDiploma\\BraTS\\MICCAI_BraTS2020_ValidationData\\BraTS20_Validation_103\n",
      "C:\\Users\\Admin\\Desktop\\KohanovDiploma\\BraTS\\MICCAI_BraTS2020_ValidationData\\BraTS20_Validation_103BraTS20_Validation_103_seg.nii.gz\n"
     ]
    },
    {
     "name": "stderr",
     "output_type": "stream",
     "text": [
      "\r",
      " 78%|███████████████████████████████████████████████████████████████▊                  | 63/81 [03:10<00:54,  3.01s/it]"
     ]
    },
    {
     "name": "stdout",
     "output_type": "stream",
     "text": [
      "BraTS20_Validation_105\n",
      "C:\\Users\\Admin\\Desktop\\KohanovDiploma\\BraTS\\MICCAI_BraTS2020_ValidationData\\BraTS20_Validation_105\n",
      "C:\\Users\\Admin\\Desktop\\KohanovDiploma\\BraTS\\MICCAI_BraTS2020_ValidationData\\BraTS20_Validation_105BraTS20_Validation_105_seg.nii.gz\n"
     ]
    },
    {
     "name": "stderr",
     "output_type": "stream",
     "text": [
      "\r",
      " 79%|████████████████████████████████████████████████████████████████▊                 | 64/81 [03:13<00:51,  3.01s/it]"
     ]
    },
    {
     "name": "stdout",
     "output_type": "stream",
     "text": [
      "BraTS20_Validation_106\n",
      "C:\\Users\\Admin\\Desktop\\KohanovDiploma\\BraTS\\MICCAI_BraTS2020_ValidationData\\BraTS20_Validation_106\n",
      "C:\\Users\\Admin\\Desktop\\KohanovDiploma\\BraTS\\MICCAI_BraTS2020_ValidationData\\BraTS20_Validation_106BraTS20_Validation_106_seg.nii.gz\n"
     ]
    },
    {
     "name": "stderr",
     "output_type": "stream",
     "text": [
      "\r",
      " 80%|█████████████████████████████████████████████████████████████████▊                | 65/81 [03:16<00:48,  3.01s/it]"
     ]
    },
    {
     "name": "stdout",
     "output_type": "stream",
     "text": [
      "BraTS20_Validation_108\n",
      "C:\\Users\\Admin\\Desktop\\KohanovDiploma\\BraTS\\MICCAI_BraTS2020_ValidationData\\BraTS20_Validation_108\n",
      "C:\\Users\\Admin\\Desktop\\KohanovDiploma\\BraTS\\MICCAI_BraTS2020_ValidationData\\BraTS20_Validation_108BraTS20_Validation_108_seg.nii.gz\n"
     ]
    },
    {
     "name": "stderr",
     "output_type": "stream",
     "text": [
      "\r",
      " 81%|██████████████████████████████████████████████████████████████████▊               | 66/81 [03:19<00:48,  3.25s/it]"
     ]
    },
    {
     "name": "stdout",
     "output_type": "stream",
     "text": [
      "BraTS20_Validation_109\n",
      "C:\\Users\\Admin\\Desktop\\KohanovDiploma\\BraTS\\MICCAI_BraTS2020_ValidationData\\BraTS20_Validation_109\n",
      "C:\\Users\\Admin\\Desktop\\KohanovDiploma\\BraTS\\MICCAI_BraTS2020_ValidationData\\BraTS20_Validation_109BraTS20_Validation_109_seg.nii.gz\n"
     ]
    },
    {
     "name": "stderr",
     "output_type": "stream",
     "text": [
      "\r",
      " 83%|███████████████████████████████████████████████████████████████████▊              | 67/81 [03:22<00:44,  3.15s/it]"
     ]
    },
    {
     "name": "stdout",
     "output_type": "stream",
     "text": [
      "BraTS20_Validation_110\n",
      "C:\\Users\\Admin\\Desktop\\KohanovDiploma\\BraTS\\MICCAI_BraTS2020_ValidationData\\BraTS20_Validation_110\n",
      "C:\\Users\\Admin\\Desktop\\KohanovDiploma\\BraTS\\MICCAI_BraTS2020_ValidationData\\BraTS20_Validation_110BraTS20_Validation_110_seg.nii.gz\n"
     ]
    },
    {
     "name": "stderr",
     "output_type": "stream",
     "text": [
      "\r",
      " 84%|████████████████████████████████████████████████████████████████████▊             | 68/81 [03:25<00:40,  3.11s/it]"
     ]
    },
    {
     "name": "stdout",
     "output_type": "stream",
     "text": [
      "BraTS20_Validation_111\n",
      "C:\\Users\\Admin\\Desktop\\KohanovDiploma\\BraTS\\MICCAI_BraTS2020_ValidationData\\BraTS20_Validation_111\n",
      "C:\\Users\\Admin\\Desktop\\KohanovDiploma\\BraTS\\MICCAI_BraTS2020_ValidationData\\BraTS20_Validation_111BraTS20_Validation_111_seg.nii.gz\n"
     ]
    },
    {
     "name": "stderr",
     "output_type": "stream",
     "text": [
      "\r",
      " 85%|█████████████████████████████████████████████████████████████████████▊            | 69/81 [03:29<00:37,  3.11s/it]"
     ]
    },
    {
     "name": "stdout",
     "output_type": "stream",
     "text": [
      "BraTS20_Validation_112\n",
      "C:\\Users\\Admin\\Desktop\\KohanovDiploma\\BraTS\\MICCAI_BraTS2020_ValidationData\\BraTS20_Validation_112\n",
      "C:\\Users\\Admin\\Desktop\\KohanovDiploma\\BraTS\\MICCAI_BraTS2020_ValidationData\\BraTS20_Validation_112BraTS20_Validation_112_seg.nii.gz\n"
     ]
    },
    {
     "name": "stderr",
     "output_type": "stream",
     "text": [
      "\r",
      " 86%|██████████████████████████████████████████████████████████████████████▊           | 70/81 [03:31<00:33,  3.06s/it]"
     ]
    },
    {
     "name": "stdout",
     "output_type": "stream",
     "text": [
      "BraTS20_Validation_113\n",
      "C:\\Users\\Admin\\Desktop\\KohanovDiploma\\BraTS\\MICCAI_BraTS2020_ValidationData\\BraTS20_Validation_113\n",
      "C:\\Users\\Admin\\Desktop\\KohanovDiploma\\BraTS\\MICCAI_BraTS2020_ValidationData\\BraTS20_Validation_113BraTS20_Validation_113_seg.nii.gz\n"
     ]
    },
    {
     "name": "stderr",
     "output_type": "stream",
     "text": [
      "\r",
      " 88%|███████████████████████████████████████████████████████████████████████▉          | 71/81 [03:35<00:30,  3.06s/it]"
     ]
    },
    {
     "name": "stdout",
     "output_type": "stream",
     "text": [
      "BraTS20_Validation_114\n",
      "C:\\Users\\Admin\\Desktop\\KohanovDiploma\\BraTS\\MICCAI_BraTS2020_ValidationData\\BraTS20_Validation_114\n",
      "C:\\Users\\Admin\\Desktop\\KohanovDiploma\\BraTS\\MICCAI_BraTS2020_ValidationData\\BraTS20_Validation_114BraTS20_Validation_114_seg.nii.gz\n"
     ]
    },
    {
     "name": "stderr",
     "output_type": "stream",
     "text": [
      "\r",
      " 89%|████████████████████████████████████████████████████████████████████████▉         | 72/81 [03:37<00:27,  3.03s/it]"
     ]
    },
    {
     "name": "stdout",
     "output_type": "stream",
     "text": [
      "BraTS20_Validation_115\n",
      "C:\\Users\\Admin\\Desktop\\KohanovDiploma\\BraTS\\MICCAI_BraTS2020_ValidationData\\BraTS20_Validation_115\n",
      "C:\\Users\\Admin\\Desktop\\KohanovDiploma\\BraTS\\MICCAI_BraTS2020_ValidationData\\BraTS20_Validation_115BraTS20_Validation_115_seg.nii.gz\n"
     ]
    },
    {
     "name": "stderr",
     "output_type": "stream",
     "text": [
      "\r",
      " 90%|█████████████████████████████████████████████████████████████████████████▉        | 73/81 [03:40<00:23,  2.99s/it]"
     ]
    },
    {
     "name": "stdout",
     "output_type": "stream",
     "text": [
      "BraTS20_Validation_116\n",
      "C:\\Users\\Admin\\Desktop\\KohanovDiploma\\BraTS\\MICCAI_BraTS2020_ValidationData\\BraTS20_Validation_116\n",
      "C:\\Users\\Admin\\Desktop\\KohanovDiploma\\BraTS\\MICCAI_BraTS2020_ValidationData\\BraTS20_Validation_116BraTS20_Validation_116_seg.nii.gz\n"
     ]
    },
    {
     "name": "stderr",
     "output_type": "stream",
     "text": [
      "\r",
      " 91%|██████████████████████████████████████████████████████████████████████████▉       | 74/81 [03:44<00:22,  3.21s/it]"
     ]
    },
    {
     "name": "stdout",
     "output_type": "stream",
     "text": [
      "BraTS20_Validation_119\n",
      "C:\\Users\\Admin\\Desktop\\KohanovDiploma\\BraTS\\MICCAI_BraTS2020_ValidationData\\BraTS20_Validation_119\n",
      "C:\\Users\\Admin\\Desktop\\KohanovDiploma\\BraTS\\MICCAI_BraTS2020_ValidationData\\BraTS20_Validation_119BraTS20_Validation_119_seg.nii.gz\n"
     ]
    },
    {
     "name": "stderr",
     "output_type": "stream",
     "text": [
      "\r",
      " 93%|███████████████████████████████████████████████████████████████████████████▉      | 75/81 [03:47<00:19,  3.19s/it]"
     ]
    },
    {
     "name": "stdout",
     "output_type": "stream",
     "text": [
      "BraTS20_Validation_120\n",
      "C:\\Users\\Admin\\Desktop\\KohanovDiploma\\BraTS\\MICCAI_BraTS2020_ValidationData\\BraTS20_Validation_120\n",
      "C:\\Users\\Admin\\Desktop\\KohanovDiploma\\BraTS\\MICCAI_BraTS2020_ValidationData\\BraTS20_Validation_120BraTS20_Validation_120_seg.nii.gz\n"
     ]
    },
    {
     "name": "stderr",
     "output_type": "stream",
     "text": [
      "\r",
      " 94%|████████████████████████████████████████████████████████████████████████████▉     | 76/81 [03:50<00:15,  3.13s/it]"
     ]
    },
    {
     "name": "stdout",
     "output_type": "stream",
     "text": [
      "BraTS20_Validation_121\n",
      "C:\\Users\\Admin\\Desktop\\KohanovDiploma\\BraTS\\MICCAI_BraTS2020_ValidationData\\BraTS20_Validation_121\n",
      "C:\\Users\\Admin\\Desktop\\KohanovDiploma\\BraTS\\MICCAI_BraTS2020_ValidationData\\BraTS20_Validation_121BraTS20_Validation_121_seg.nii.gz\n"
     ]
    },
    {
     "name": "stderr",
     "output_type": "stream",
     "text": [
      "\r",
      " 95%|█████████████████████████████████████████████████████████████████████████████▉    | 77/81 [03:53<00:12,  3.16s/it]"
     ]
    },
    {
     "name": "stdout",
     "output_type": "stream",
     "text": [
      "BraTS20_Validation_122\n",
      "C:\\Users\\Admin\\Desktop\\KohanovDiploma\\BraTS\\MICCAI_BraTS2020_ValidationData\\BraTS20_Validation_122\n",
      "C:\\Users\\Admin\\Desktop\\KohanovDiploma\\BraTS\\MICCAI_BraTS2020_ValidationData\\BraTS20_Validation_122BraTS20_Validation_122_seg.nii.gz\n"
     ]
    },
    {
     "name": "stderr",
     "output_type": "stream",
     "text": [
      "\r",
      " 96%|██████████████████████████████████████████████████████████████████████████████▉   | 78/81 [03:57<00:09,  3.13s/it]"
     ]
    },
    {
     "name": "stdout",
     "output_type": "stream",
     "text": [
      "BraTS20_Validation_123\n",
      "C:\\Users\\Admin\\Desktop\\KohanovDiploma\\BraTS\\MICCAI_BraTS2020_ValidationData\\BraTS20_Validation_123\n",
      "C:\\Users\\Admin\\Desktop\\KohanovDiploma\\BraTS\\MICCAI_BraTS2020_ValidationData\\BraTS20_Validation_123BraTS20_Validation_123_seg.nii.gz\n"
     ]
    },
    {
     "name": "stderr",
     "output_type": "stream",
     "text": [
      "\r",
      " 98%|███████████████████████████████████████████████████████████████████████████████▉  | 79/81 [03:59<00:06,  3.06s/it]"
     ]
    },
    {
     "name": "stdout",
     "output_type": "stream",
     "text": [
      "BraTS20_Validation_124\n",
      "C:\\Users\\Admin\\Desktop\\KohanovDiploma\\BraTS\\MICCAI_BraTS2020_ValidationData\\BraTS20_Validation_124\n",
      "C:\\Users\\Admin\\Desktop\\KohanovDiploma\\BraTS\\MICCAI_BraTS2020_ValidationData\\BraTS20_Validation_124BraTS20_Validation_124_seg.nii.gz\n"
     ]
    },
    {
     "name": "stderr",
     "output_type": "stream",
     "text": [
      "\r",
      " 99%|████████████████████████████████████████████████████████████████████████████████▉ | 80/81 [04:02<00:03,  3.05s/it]"
     ]
    },
    {
     "name": "stdout",
     "output_type": "stream",
     "text": [
      "BraTS20_Validation_125\n",
      "C:\\Users\\Admin\\Desktop\\KohanovDiploma\\BraTS\\MICCAI_BraTS2020_ValidationData\\BraTS20_Validation_125\n",
      "C:\\Users\\Admin\\Desktop\\KohanovDiploma\\BraTS\\MICCAI_BraTS2020_ValidationData\\BraTS20_Validation_125BraTS20_Validation_125_seg.nii.gz\n"
     ]
    },
    {
     "name": "stderr",
     "output_type": "stream",
     "text": [
      "100%|██████████████████████████████████████████████████████████████████████████████████| 81/81 [04:05<00:00,  3.04s/it]\n"
     ]
    }
   ],
   "source": [
    "niigz_to_images(val_root, 'seg')"
   ]
  },
  {
   "cell_type": "code",
   "execution_count": 8,
   "metadata": {
    "colab": {
     "base_uri": "https://localhost:8080/",
     "height": 1000
    },
    "id": "hm95B6NSFE4L",
    "outputId": "d0bb4522-962b-45c3-fb98-8600946876c5"
   },
   "outputs": [
    {
     "name": "stderr",
     "output_type": "stream",
     "text": [
      "  0%|                                                                                           | 0/81 [00:00<?, ?it/s]<ipython-input-7-b43896d9135c>:8: DeprecationWarning: get_data() is deprecated in favor of get_fdata(), which has a more predictable return type. To obtain get_data() behavior going forward, use numpy.asanyarray(img.dataobj).\n",
      "\n",
      "* deprecated from version: 3.0\n",
      "* Will raise <class 'nibabel.deprecator.ExpiredDeprecationError'> as of version: 5.0\n",
      "  images = nib.load(filename).get_data()\n"
     ]
    },
    {
     "name": "stdout",
     "output_type": "stream",
     "text": [
      "C:\\Users\\Admin\\Desktop\\KohanovDiploma\\BraTS\\MICCAI_BraTS2020_ValidationData\\BraTS20_Validation_001\n"
     ]
    },
    {
     "name": "stderr",
     "output_type": "stream",
     "text": [
      "<ipython-input-7-b43896d9135c>:38: RuntimeWarning: divide by zero encountered in true_divide\n",
      "  rescale = 255/max(np.unique(np.asarray(image)))\n",
      "<ipython-input-7-b43896d9135c>:39: RuntimeWarning: invalid value encountered in multiply\n",
      "  image = image * rescale\n",
      "\r",
      "  1%|█                                                                                  | 1/81 [00:00<00:18,  4.39it/s]"
     ]
    },
    {
     "name": "stdout",
     "output_type": "stream",
     "text": [
      "C:\\Users\\Admin\\Desktop\\KohanovDiploma\\BraTS\\MICCAI_BraTS2020_ValidationData\\BraTS20_Validation_002\n"
     ]
    },
    {
     "name": "stderr",
     "output_type": "stream",
     "text": [
      "  4%|███                                                                                | 3/81 [00:00<00:16,  4.62it/s]"
     ]
    },
    {
     "name": "stdout",
     "output_type": "stream",
     "text": [
      "C:\\Users\\Admin\\Desktop\\KohanovDiploma\\BraTS\\MICCAI_BraTS2020_ValidationData\\BraTS20_Validation_003\n",
      "C:\\Users\\Admin\\Desktop\\KohanovDiploma\\BraTS\\MICCAI_BraTS2020_ValidationData\\BraTS20_Validation_007\n"
     ]
    },
    {
     "name": "stderr",
     "output_type": "stream",
     "text": [
      "\r",
      "  5%|████                                                                               | 4/81 [00:00<00:17,  4.52it/s]"
     ]
    },
    {
     "name": "stdout",
     "output_type": "stream",
     "text": [
      "C:\\Users\\Admin\\Desktop\\KohanovDiploma\\BraTS\\MICCAI_BraTS2020_ValidationData\\BraTS20_Validation_008\n"
     ]
    },
    {
     "name": "stderr",
     "output_type": "stream",
     "text": [
      "\r",
      "  6%|█████                                                                              | 5/81 [00:01<00:16,  4.54it/s]"
     ]
    },
    {
     "name": "stdout",
     "output_type": "stream",
     "text": [
      "C:\\Users\\Admin\\Desktop\\KohanovDiploma\\BraTS\\MICCAI_BraTS2020_ValidationData\\BraTS20_Validation_010\n"
     ]
    },
    {
     "name": "stderr",
     "output_type": "stream",
     "text": [
      "  9%|███████▏                                                                           | 7/81 [00:01<00:16,  4.61it/s]"
     ]
    },
    {
     "name": "stdout",
     "output_type": "stream",
     "text": [
      "C:\\Users\\Admin\\Desktop\\KohanovDiploma\\BraTS\\MICCAI_BraTS2020_ValidationData\\BraTS20_Validation_011\n",
      "C:\\Users\\Admin\\Desktop\\KohanovDiploma\\BraTS\\MICCAI_BraTS2020_ValidationData\\BraTS20_Validation_012\n"
     ]
    },
    {
     "name": "stderr",
     "output_type": "stream",
     "text": [
      "\r",
      " 10%|████████▏                                                                          | 8/81 [00:01<00:16,  4.52it/s]"
     ]
    },
    {
     "name": "stdout",
     "output_type": "stream",
     "text": [
      "C:\\Users\\Admin\\Desktop\\KohanovDiploma\\BraTS\\MICCAI_BraTS2020_ValidationData\\BraTS20_Validation_015\n"
     ]
    },
    {
     "name": "stderr",
     "output_type": "stream",
     "text": [
      "\r",
      " 11%|█████████▏                                                                         | 9/81 [00:01<00:15,  4.53it/s]"
     ]
    },
    {
     "name": "stdout",
     "output_type": "stream",
     "text": [
      "C:\\Users\\Admin\\Desktop\\KohanovDiploma\\BraTS\\MICCAI_BraTS2020_ValidationData\\BraTS20_Validation_017\n"
     ]
    },
    {
     "name": "stderr",
     "output_type": "stream",
     "text": [
      "\r",
      " 12%|██████████                                                                        | 10/81 [00:02<00:15,  4.52it/s]"
     ]
    },
    {
     "name": "stdout",
     "output_type": "stream",
     "text": [
      "C:\\Users\\Admin\\Desktop\\KohanovDiploma\\BraTS\\MICCAI_BraTS2020_ValidationData\\BraTS20_Validation_018\n"
     ]
    },
    {
     "name": "stderr",
     "output_type": "stream",
     "text": [
      "\r",
      " 14%|███████████▏                                                                      | 11/81 [00:02<00:15,  4.51it/s]"
     ]
    },
    {
     "name": "stdout",
     "output_type": "stream",
     "text": [
      "C:\\Users\\Admin\\Desktop\\KohanovDiploma\\BraTS\\MICCAI_BraTS2020_ValidationData\\BraTS20_Validation_019\n"
     ]
    },
    {
     "name": "stderr",
     "output_type": "stream",
     "text": [
      "\r",
      " 15%|████████████▏                                                                     | 12/81 [00:02<00:15,  4.56it/s]"
     ]
    },
    {
     "name": "stdout",
     "output_type": "stream",
     "text": [
      "C:\\Users\\Admin\\Desktop\\KohanovDiploma\\BraTS\\MICCAI_BraTS2020_ValidationData\\BraTS20_Validation_020\n"
     ]
    },
    {
     "name": "stderr",
     "output_type": "stream",
     "text": [
      "\r",
      " 16%|█████████████▏                                                                    | 13/81 [00:02<00:14,  4.60it/s]"
     ]
    },
    {
     "name": "stdout",
     "output_type": "stream",
     "text": [
      "C:\\Users\\Admin\\Desktop\\KohanovDiploma\\BraTS\\MICCAI_BraTS2020_ValidationData\\BraTS20_Validation_021\n"
     ]
    },
    {
     "name": "stderr",
     "output_type": "stream",
     "text": [
      "\r",
      " 17%|██████████████▏                                                                   | 14/81 [00:03<00:14,  4.65it/s]"
     ]
    },
    {
     "name": "stdout",
     "output_type": "stream",
     "text": [
      "C:\\Users\\Admin\\Desktop\\KohanovDiploma\\BraTS\\MICCAI_BraTS2020_ValidationData\\BraTS20_Validation_022\n"
     ]
    },
    {
     "name": "stderr",
     "output_type": "stream",
     "text": [
      "\r",
      " 19%|███████████████▏                                                                  | 15/81 [00:03<00:14,  4.52it/s]"
     ]
    },
    {
     "name": "stdout",
     "output_type": "stream",
     "text": [
      "C:\\Users\\Admin\\Desktop\\KohanovDiploma\\BraTS\\MICCAI_BraTS2020_ValidationData\\BraTS20_Validation_023\n"
     ]
    },
    {
     "name": "stderr",
     "output_type": "stream",
     "text": [
      "\r",
      " 20%|████████████████▏                                                                 | 16/81 [00:03<00:14,  4.56it/s]"
     ]
    },
    {
     "name": "stdout",
     "output_type": "stream",
     "text": [
      "C:\\Users\\Admin\\Desktop\\KohanovDiploma\\BraTS\\MICCAI_BraTS2020_ValidationData\\BraTS20_Validation_024\n"
     ]
    },
    {
     "name": "stderr",
     "output_type": "stream",
     "text": [
      " 22%|██████████████████▏                                                               | 18/81 [00:03<00:13,  4.62it/s]"
     ]
    },
    {
     "name": "stdout",
     "output_type": "stream",
     "text": [
      "C:\\Users\\Admin\\Desktop\\KohanovDiploma\\BraTS\\MICCAI_BraTS2020_ValidationData\\BraTS20_Validation_026\n",
      "C:\\Users\\Admin\\Desktop\\KohanovDiploma\\BraTS\\MICCAI_BraTS2020_ValidationData\\BraTS20_Validation_027\n"
     ]
    },
    {
     "name": "stderr",
     "output_type": "stream",
     "text": [
      "\r",
      " 23%|███████████████████▏                                                              | 19/81 [00:04<00:13,  4.59it/s]"
     ]
    },
    {
     "name": "stdout",
     "output_type": "stream",
     "text": [
      "C:\\Users\\Admin\\Desktop\\KohanovDiploma\\BraTS\\MICCAI_BraTS2020_ValidationData\\BraTS20_Validation_028\n"
     ]
    },
    {
     "name": "stderr",
     "output_type": "stream",
     "text": [
      "\r",
      " 25%|████████████████████▏                                                             | 20/81 [00:04<00:16,  3.80it/s]"
     ]
    },
    {
     "name": "stdout",
     "output_type": "stream",
     "text": [
      "C:\\Users\\Admin\\Desktop\\KohanovDiploma\\BraTS\\MICCAI_BraTS2020_ValidationData\\BraTS20_Validation_030\n"
     ]
    },
    {
     "name": "stderr",
     "output_type": "stream",
     "text": [
      "\r",
      " 26%|█████████████████████▎                                                            | 21/81 [00:04<00:17,  3.43it/s]"
     ]
    },
    {
     "name": "stdout",
     "output_type": "stream",
     "text": [
      "C:\\Users\\Admin\\Desktop\\KohanovDiploma\\BraTS\\MICCAI_BraTS2020_ValidationData\\BraTS20_Validation_032\n"
     ]
    },
    {
     "name": "stderr",
     "output_type": "stream",
     "text": [
      "\r",
      " 27%|██████████████████████▎                                                           | 22/81 [00:05<00:15,  3.72it/s]"
     ]
    },
    {
     "name": "stdout",
     "output_type": "stream",
     "text": [
      "C:\\Users\\Admin\\Desktop\\KohanovDiploma\\BraTS\\MICCAI_BraTS2020_ValidationData\\BraTS20_Validation_034\n"
     ]
    },
    {
     "name": "stderr",
     "output_type": "stream",
     "text": [
      "\r",
      " 28%|███████████████████████▎                                                          | 23/81 [00:05<00:14,  3.94it/s]"
     ]
    },
    {
     "name": "stdout",
     "output_type": "stream",
     "text": [
      "C:\\Users\\Admin\\Desktop\\KohanovDiploma\\BraTS\\MICCAI_BraTS2020_ValidationData\\BraTS20_Validation_036\n"
     ]
    },
    {
     "name": "stderr",
     "output_type": "stream",
     "text": [
      "\r",
      " 30%|████████████████████████▎                                                         | 24/81 [00:05<00:14,  4.07it/s]"
     ]
    },
    {
     "name": "stdout",
     "output_type": "stream",
     "text": [
      "C:\\Users\\Admin\\Desktop\\KohanovDiploma\\BraTS\\MICCAI_BraTS2020_ValidationData\\BraTS20_Validation_037\n"
     ]
    },
    {
     "name": "stderr",
     "output_type": "stream",
     "text": [
      "\r",
      " 31%|█████████████████████████▎                                                        | 25/81 [00:05<00:13,  4.18it/s]"
     ]
    },
    {
     "name": "stdout",
     "output_type": "stream",
     "text": [
      "C:\\Users\\Admin\\Desktop\\KohanovDiploma\\BraTS\\MICCAI_BraTS2020_ValidationData\\BraTS20_Validation_038\n"
     ]
    },
    {
     "name": "stderr",
     "output_type": "stream",
     "text": [
      "\r",
      " 32%|██████████████████████████▎                                                       | 26/81 [00:06<00:13,  4.23it/s]"
     ]
    },
    {
     "name": "stdout",
     "output_type": "stream",
     "text": [
      "C:\\Users\\Admin\\Desktop\\KohanovDiploma\\BraTS\\MICCAI_BraTS2020_ValidationData\\BraTS20_Validation_039\n"
     ]
    },
    {
     "name": "stderr",
     "output_type": "stream",
     "text": [
      " 35%|████████████████████████████▎                                                     | 28/81 [00:06<00:11,  4.55it/s]"
     ]
    },
    {
     "name": "stdout",
     "output_type": "stream",
     "text": [
      "C:\\Users\\Admin\\Desktop\\KohanovDiploma\\BraTS\\MICCAI_BraTS2020_ValidationData\\BraTS20_Validation_040\n",
      "C:\\Users\\Admin\\Desktop\\KohanovDiploma\\BraTS\\MICCAI_BraTS2020_ValidationData\\BraTS20_Validation_041\n"
     ]
    },
    {
     "name": "stderr",
     "output_type": "stream",
     "text": [
      "\r",
      " 36%|█████████████████████████████▎                                                    | 29/81 [00:06<00:11,  4.48it/s]"
     ]
    },
    {
     "name": "stdout",
     "output_type": "stream",
     "text": [
      "C:\\Users\\Admin\\Desktop\\KohanovDiploma\\BraTS\\MICCAI_BraTS2020_ValidationData\\BraTS20_Validation_042\n"
     ]
    },
    {
     "name": "stderr",
     "output_type": "stream",
     "text": [
      " 38%|███████████████████████████████▍                                                  | 31/81 [00:07<00:10,  4.66it/s]"
     ]
    },
    {
     "name": "stdout",
     "output_type": "stream",
     "text": [
      "C:\\Users\\Admin\\Desktop\\KohanovDiploma\\BraTS\\MICCAI_BraTS2020_ValidationData\\BraTS20_Validation_043\n",
      "C:\\Users\\Admin\\Desktop\\KohanovDiploma\\BraTS\\MICCAI_BraTS2020_ValidationData\\BraTS20_Validation_044\n"
     ]
    },
    {
     "name": "stderr",
     "output_type": "stream",
     "text": [
      "\r",
      " 40%|████████████████████████████████▍                                                 | 32/81 [00:07<00:11,  4.41it/s]"
     ]
    },
    {
     "name": "stdout",
     "output_type": "stream",
     "text": [
      "C:\\Users\\Admin\\Desktop\\KohanovDiploma\\BraTS\\MICCAI_BraTS2020_ValidationData\\BraTS20_Validation_045\n"
     ]
    },
    {
     "name": "stderr",
     "output_type": "stream",
     "text": [
      "\r",
      " 41%|█████████████████████████████████▍                                                | 33/81 [00:07<00:10,  4.45it/s]"
     ]
    },
    {
     "name": "stdout",
     "output_type": "stream",
     "text": [
      "C:\\Users\\Admin\\Desktop\\KohanovDiploma\\BraTS\\MICCAI_BraTS2020_ValidationData\\BraTS20_Validation_047\n"
     ]
    },
    {
     "name": "stderr",
     "output_type": "stream",
     "text": [
      " 43%|███████████████████████████████████▍                                              | 35/81 [00:07<00:09,  4.69it/s]"
     ]
    },
    {
     "name": "stdout",
     "output_type": "stream",
     "text": [
      "C:\\Users\\Admin\\Desktop\\KohanovDiploma\\BraTS\\MICCAI_BraTS2020_ValidationData\\BraTS20_Validation_048\n",
      "C:\\Users\\Admin\\Desktop\\KohanovDiploma\\BraTS\\MICCAI_BraTS2020_ValidationData\\BraTS20_Validation_049\n"
     ]
    },
    {
     "name": "stderr",
     "output_type": "stream",
     "text": [
      " 46%|█████████████████████████████████████▍                                            | 37/81 [00:08<00:09,  4.77it/s]"
     ]
    },
    {
     "name": "stdout",
     "output_type": "stream",
     "text": [
      "C:\\Users\\Admin\\Desktop\\KohanovDiploma\\BraTS\\MICCAI_BraTS2020_ValidationData\\BraTS20_Validation_050\n",
      "C:\\Users\\Admin\\Desktop\\KohanovDiploma\\BraTS\\MICCAI_BraTS2020_ValidationData\\BraTS20_Validation_051\n"
     ]
    },
    {
     "name": "stderr",
     "output_type": "stream",
     "text": [
      "\r",
      " 47%|██████████████████████████████████████▍                                           | 38/81 [00:08<00:09,  4.75it/s]"
     ]
    },
    {
     "name": "stdout",
     "output_type": "stream",
     "text": [
      "C:\\Users\\Admin\\Desktop\\KohanovDiploma\\BraTS\\MICCAI_BraTS2020_ValidationData\\BraTS20_Validation_053\n"
     ]
    },
    {
     "name": "stderr",
     "output_type": "stream",
     "text": [
      " 49%|████████████████████████████████████████▍                                         | 40/81 [00:08<00:08,  4.86it/s]"
     ]
    },
    {
     "name": "stdout",
     "output_type": "stream",
     "text": [
      "C:\\Users\\Admin\\Desktop\\KohanovDiploma\\BraTS\\MICCAI_BraTS2020_ValidationData\\BraTS20_Validation_054\n",
      "C:\\Users\\Admin\\Desktop\\KohanovDiploma\\BraTS\\MICCAI_BraTS2020_ValidationData\\BraTS20_Validation_055\n"
     ]
    },
    {
     "name": "stderr",
     "output_type": "stream",
     "text": [
      " 52%|██████████████████████████████████████████▌                                       | 42/81 [00:09<00:07,  4.90it/s]"
     ]
    },
    {
     "name": "stdout",
     "output_type": "stream",
     "text": [
      "C:\\Users\\Admin\\Desktop\\KohanovDiploma\\BraTS\\MICCAI_BraTS2020_ValidationData\\BraTS20_Validation_056\n"
     ]
    },
    {
     "name": "stderr",
     "output_type": "stream",
     "text": [
      "\r",
      " 53%|███████████████████████████████████████████▌                                      | 43/81 [00:09<00:07,  4.93it/s]"
     ]
    },
    {
     "name": "stdout",
     "output_type": "stream",
     "text": [
      "C:\\Users\\Admin\\Desktop\\KohanovDiploma\\BraTS\\MICCAI_BraTS2020_ValidationData\\BraTS20_Validation_057\n",
      "C:\\Users\\Admin\\Desktop\\KohanovDiploma\\BraTS\\MICCAI_BraTS2020_ValidationData\\BraTS20_Validation_058\n"
     ]
    },
    {
     "name": "stderr",
     "output_type": "stream",
     "text": [
      "\r",
      " 54%|████████████████████████████████████████████▌                                     | 44/81 [00:09<00:07,  4.77it/s]"
     ]
    },
    {
     "name": "stdout",
     "output_type": "stream",
     "text": [
      "C:\\Users\\Admin\\Desktop\\KohanovDiploma\\BraTS\\MICCAI_BraTS2020_ValidationData\\BraTS20_Validation_059\n"
     ]
    },
    {
     "name": "stderr",
     "output_type": "stream",
     "text": [
      "\r",
      " 56%|█████████████████████████████████████████████▌                                    | 45/81 [00:10<00:07,  4.75it/s]"
     ]
    },
    {
     "name": "stdout",
     "output_type": "stream",
     "text": [
      "C:\\Users\\Admin\\Desktop\\KohanovDiploma\\BraTS\\MICCAI_BraTS2020_ValidationData\\BraTS20_Validation_060\n"
     ]
    },
    {
     "name": "stderr",
     "output_type": "stream",
     "text": [
      "\r",
      " 57%|██████████████████████████████████████████████▌                                   | 46/81 [00:10<00:07,  4.54it/s]"
     ]
    },
    {
     "name": "stdout",
     "output_type": "stream",
     "text": [
      "C:\\Users\\Admin\\Desktop\\KohanovDiploma\\BraTS\\MICCAI_BraTS2020_ValidationData\\BraTS20_Validation_061\n"
     ]
    },
    {
     "name": "stderr",
     "output_type": "stream",
     "text": [
      "\r",
      " 58%|███████████████████████████████████████████████▌                                  | 47/81 [00:10<00:07,  4.46it/s]"
     ]
    },
    {
     "name": "stdout",
     "output_type": "stream",
     "text": [
      "C:\\Users\\Admin\\Desktop\\KohanovDiploma\\BraTS\\MICCAI_BraTS2020_ValidationData\\BraTS20_Validation_063\n"
     ]
    },
    {
     "name": "stderr",
     "output_type": "stream",
     "text": [
      "\r",
      " 59%|████████████████████████████████████████████████▌                                 | 48/81 [00:10<00:07,  4.34it/s]"
     ]
    },
    {
     "name": "stdout",
     "output_type": "stream",
     "text": [
      "C:\\Users\\Admin\\Desktop\\KohanovDiploma\\BraTS\\MICCAI_BraTS2020_ValidationData\\BraTS20_Validation_064\n"
     ]
    },
    {
     "name": "stderr",
     "output_type": "stream",
     "text": [
      "\r",
      " 60%|█████████████████████████████████████████████████▌                                | 49/81 [00:11<00:07,  4.26it/s]"
     ]
    },
    {
     "name": "stdout",
     "output_type": "stream",
     "text": [
      "C:\\Users\\Admin\\Desktop\\KohanovDiploma\\BraTS\\MICCAI_BraTS2020_ValidationData\\BraTS20_Validation_065\n"
     ]
    },
    {
     "name": "stderr",
     "output_type": "stream",
     "text": [
      "\r",
      " 62%|██████████████████████████████████████████████████▌                               | 50/81 [00:11<00:07,  4.16it/s]"
     ]
    },
    {
     "name": "stdout",
     "output_type": "stream",
     "text": [
      "C:\\Users\\Admin\\Desktop\\KohanovDiploma\\BraTS\\MICCAI_BraTS2020_ValidationData\\BraTS20_Validation_067\n"
     ]
    },
    {
     "name": "stderr",
     "output_type": "stream",
     "text": [
      "\r",
      " 63%|███████████████████████████████████████████████████▋                              | 51/81 [00:11<00:06,  4.32it/s]"
     ]
    },
    {
     "name": "stdout",
     "output_type": "stream",
     "text": [
      "C:\\Users\\Admin\\Desktop\\KohanovDiploma\\BraTS\\MICCAI_BraTS2020_ValidationData\\BraTS20_Validation_068\n"
     ]
    },
    {
     "name": "stderr",
     "output_type": "stream",
     "text": [
      "\r",
      " 64%|████████████████████████████████████████████████████▋                             | 52/81 [00:11<00:06,  4.38it/s]"
     ]
    },
    {
     "name": "stdout",
     "output_type": "stream",
     "text": [
      "C:\\Users\\Admin\\Desktop\\KohanovDiploma\\BraTS\\MICCAI_BraTS2020_ValidationData\\BraTS20_Validation_071\n"
     ]
    },
    {
     "name": "stderr",
     "output_type": "stream",
     "text": [
      "\r",
      " 65%|█████████████████████████████████████████████████████▋                            | 53/81 [00:11<00:06,  4.35it/s]"
     ]
    },
    {
     "name": "stdout",
     "output_type": "stream",
     "text": [
      "C:\\Users\\Admin\\Desktop\\KohanovDiploma\\BraTS\\MICCAI_BraTS2020_ValidationData\\BraTS20_Validation_077\n"
     ]
    },
    {
     "name": "stderr",
     "output_type": "stream",
     "text": [
      "\r",
      " 67%|██████████████████████████████████████████████████████▋                           | 54/81 [00:12<00:06,  4.41it/s]"
     ]
    },
    {
     "name": "stdout",
     "output_type": "stream",
     "text": [
      "C:\\Users\\Admin\\Desktop\\KohanovDiploma\\BraTS\\MICCAI_BraTS2020_ValidationData\\BraTS20_Validation_083\n"
     ]
    },
    {
     "name": "stderr",
     "output_type": "stream",
     "text": [
      " 69%|████████████████████████████████████████████████████████▋                         | 56/81 [00:12<00:05,  4.57it/s]"
     ]
    },
    {
     "name": "stdout",
     "output_type": "stream",
     "text": [
      "C:\\Users\\Admin\\Desktop\\KohanovDiploma\\BraTS\\MICCAI_BraTS2020_ValidationData\\BraTS20_Validation_085\n",
      "C:\\Users\\Admin\\Desktop\\KohanovDiploma\\BraTS\\MICCAI_BraTS2020_ValidationData\\BraTS20_Validation_086\n"
     ]
    },
    {
     "name": "stderr",
     "output_type": "stream",
     "text": [
      " 72%|██████████████████████████████████████████████████████████▋                       | 58/81 [00:12<00:04,  4.63it/s]"
     ]
    },
    {
     "name": "stdout",
     "output_type": "stream",
     "text": [
      "C:\\Users\\Admin\\Desktop\\KohanovDiploma\\BraTS\\MICCAI_BraTS2020_ValidationData\\BraTS20_Validation_089\n",
      "C:\\Users\\Admin\\Desktop\\KohanovDiploma\\BraTS\\MICCAI_BraTS2020_ValidationData\\BraTS20_Validation_091\n"
     ]
    },
    {
     "name": "stderr",
     "output_type": "stream",
     "text": [
      "\r",
      " 73%|███████████████████████████████████████████████████████████▋                      | 59/81 [00:13<00:04,  4.67it/s]"
     ]
    },
    {
     "name": "stdout",
     "output_type": "stream",
     "text": [
      "C:\\Users\\Admin\\Desktop\\KohanovDiploma\\BraTS\\MICCAI_BraTS2020_ValidationData\\BraTS20_Validation_092\n"
     ]
    },
    {
     "name": "stderr",
     "output_type": "stream",
     "text": [
      "\r",
      " 74%|████████████████████████████████████████████████████████████▋                     | 60/81 [00:13<00:04,  4.60it/s]"
     ]
    },
    {
     "name": "stdout",
     "output_type": "stream",
     "text": [
      "C:\\Users\\Admin\\Desktop\\KohanovDiploma\\BraTS\\MICCAI_BraTS2020_ValidationData\\BraTS20_Validation_093\n"
     ]
    },
    {
     "name": "stderr",
     "output_type": "stream",
     "text": [
      " 77%|██████████████████████████████████████████████████████████████▊                   | 62/81 [00:13<00:04,  4.62it/s]"
     ]
    },
    {
     "name": "stdout",
     "output_type": "stream",
     "text": [
      "C:\\Users\\Admin\\Desktop\\KohanovDiploma\\BraTS\\MICCAI_BraTS2020_ValidationData\\BraTS20_Validation_094\n",
      "C:\\Users\\Admin\\Desktop\\KohanovDiploma\\BraTS\\MICCAI_BraTS2020_ValidationData\\BraTS20_Validation_103\n"
     ]
    },
    {
     "name": "stderr",
     "output_type": "stream",
     "text": [
      "\r",
      " 78%|███████████████████████████████████████████████████████████████▊                  | 63/81 [00:14<00:03,  4.51it/s]"
     ]
    },
    {
     "name": "stdout",
     "output_type": "stream",
     "text": [
      "C:\\Users\\Admin\\Desktop\\KohanovDiploma\\BraTS\\MICCAI_BraTS2020_ValidationData\\BraTS20_Validation_105\n"
     ]
    },
    {
     "name": "stderr",
     "output_type": "stream",
     "text": [
      "\r",
      " 79%|████████████████████████████████████████████████████████████████▊                 | 64/81 [00:14<00:03,  4.45it/s]"
     ]
    },
    {
     "name": "stdout",
     "output_type": "stream",
     "text": [
      "C:\\Users\\Admin\\Desktop\\KohanovDiploma\\BraTS\\MICCAI_BraTS2020_ValidationData\\BraTS20_Validation_106\n"
     ]
    },
    {
     "name": "stderr",
     "output_type": "stream",
     "text": [
      "\r",
      " 80%|█████████████████████████████████████████████████████████████████▊                | 65/81 [00:14<00:03,  4.47it/s]"
     ]
    },
    {
     "name": "stdout",
     "output_type": "stream",
     "text": [
      "C:\\Users\\Admin\\Desktop\\KohanovDiploma\\BraTS\\MICCAI_BraTS2020_ValidationData\\BraTS20_Validation_108\n"
     ]
    },
    {
     "name": "stderr",
     "output_type": "stream",
     "text": [
      "\r",
      " 81%|██████████████████████████████████████████████████████████████████▊               | 66/81 [00:14<00:03,  4.35it/s]"
     ]
    },
    {
     "name": "stdout",
     "output_type": "stream",
     "text": [
      "C:\\Users\\Admin\\Desktop\\KohanovDiploma\\BraTS\\MICCAI_BraTS2020_ValidationData\\BraTS20_Validation_109\n"
     ]
    },
    {
     "name": "stderr",
     "output_type": "stream",
     "text": [
      " 84%|████████████████████████████████████████████████████████████████████▊             | 68/81 [00:15<00:02,  4.60it/s]"
     ]
    },
    {
     "name": "stdout",
     "output_type": "stream",
     "text": [
      "C:\\Users\\Admin\\Desktop\\KohanovDiploma\\BraTS\\MICCAI_BraTS2020_ValidationData\\BraTS20_Validation_110\n",
      "C:\\Users\\Admin\\Desktop\\KohanovDiploma\\BraTS\\MICCAI_BraTS2020_ValidationData\\BraTS20_Validation_111\n"
     ]
    },
    {
     "name": "stderr",
     "output_type": "stream",
     "text": [
      "\r",
      " 85%|█████████████████████████████████████████████████████████████████████▊            | 69/81 [00:15<00:02,  4.58it/s]"
     ]
    },
    {
     "name": "stdout",
     "output_type": "stream",
     "text": [
      "C:\\Users\\Admin\\Desktop\\KohanovDiploma\\BraTS\\MICCAI_BraTS2020_ValidationData\\BraTS20_Validation_112\n"
     ]
    },
    {
     "name": "stderr",
     "output_type": "stream",
     "text": [
      "\r",
      " 86%|██████████████████████████████████████████████████████████████████████▊           | 70/81 [00:15<00:02,  4.68it/s]"
     ]
    },
    {
     "name": "stdout",
     "output_type": "stream",
     "text": [
      "C:\\Users\\Admin\\Desktop\\KohanovDiploma\\BraTS\\MICCAI_BraTS2020_ValidationData\\BraTS20_Validation_113\n"
     ]
    },
    {
     "name": "stderr",
     "output_type": "stream",
     "text": [
      " 89%|████████████████████████████████████████████████████████████████████████▉         | 72/81 [00:16<00:01,  4.89it/s]"
     ]
    },
    {
     "name": "stdout",
     "output_type": "stream",
     "text": [
      "C:\\Users\\Admin\\Desktop\\KohanovDiploma\\BraTS\\MICCAI_BraTS2020_ValidationData\\BraTS20_Validation_114\n"
     ]
    },
    {
     "name": "stderr",
     "output_type": "stream",
     "text": [
      "\r",
      " 90%|█████████████████████████████████████████████████████████████████████████▉        | 73/81 [00:16<00:01,  4.93it/s]"
     ]
    },
    {
     "name": "stdout",
     "output_type": "stream",
     "text": [
      "C:\\Users\\Admin\\Desktop\\KohanovDiploma\\BraTS\\MICCAI_BraTS2020_ValidationData\\BraTS20_Validation_115\n",
      "C:\\Users\\Admin\\Desktop\\KohanovDiploma\\BraTS\\MICCAI_BraTS2020_ValidationData\\BraTS20_Validation_116\n"
     ]
    },
    {
     "name": "stderr",
     "output_type": "stream",
     "text": [
      "\r",
      " 91%|██████████████████████████████████████████████████████████████████████████▉       | 74/81 [00:16<00:01,  4.80it/s]"
     ]
    },
    {
     "name": "stdout",
     "output_type": "stream",
     "text": [
      "C:\\Users\\Admin\\Desktop\\KohanovDiploma\\BraTS\\MICCAI_BraTS2020_ValidationData\\BraTS20_Validation_119\n"
     ]
    },
    {
     "name": "stderr",
     "output_type": "stream",
     "text": [
      "\r",
      " 93%|███████████████████████████████████████████████████████████████████████████▉      | 75/81 [00:16<00:01,  4.00it/s]"
     ]
    },
    {
     "name": "stdout",
     "output_type": "stream",
     "text": [
      "C:\\Users\\Admin\\Desktop\\KohanovDiploma\\BraTS\\MICCAI_BraTS2020_ValidationData\\BraTS20_Validation_120\n"
     ]
    },
    {
     "name": "stderr",
     "output_type": "stream",
     "text": [
      "\r",
      " 94%|████████████████████████████████████████████████████████████████████████████▉     | 76/81 [00:17<00:01,  3.40it/s]"
     ]
    },
    {
     "name": "stdout",
     "output_type": "stream",
     "text": [
      "C:\\Users\\Admin\\Desktop\\KohanovDiploma\\BraTS\\MICCAI_BraTS2020_ValidationData\\BraTS20_Validation_121\n"
     ]
    },
    {
     "name": "stderr",
     "output_type": "stream",
     "text": [
      "\r",
      " 95%|█████████████████████████████████████████████████████████████████████████████▉    | 77/81 [00:17<00:01,  3.17it/s]"
     ]
    },
    {
     "name": "stdout",
     "output_type": "stream",
     "text": [
      "C:\\Users\\Admin\\Desktop\\KohanovDiploma\\BraTS\\MICCAI_BraTS2020_ValidationData\\BraTS20_Validation_122\n"
     ]
    },
    {
     "name": "stderr",
     "output_type": "stream",
     "text": [
      "\r",
      " 96%|██████████████████████████████████████████████████████████████████████████████▉   | 78/81 [00:17<00:00,  3.02it/s]"
     ]
    },
    {
     "name": "stdout",
     "output_type": "stream",
     "text": [
      "C:\\Users\\Admin\\Desktop\\KohanovDiploma\\BraTS\\MICCAI_BraTS2020_ValidationData\\BraTS20_Validation_123\n"
     ]
    },
    {
     "name": "stderr",
     "output_type": "stream",
     "text": [
      "\r",
      " 98%|███████████████████████████████████████████████████████████████████████████████▉  | 79/81 [00:18<00:00,  2.92it/s]"
     ]
    },
    {
     "name": "stdout",
     "output_type": "stream",
     "text": [
      "C:\\Users\\Admin\\Desktop\\KohanovDiploma\\BraTS\\MICCAI_BraTS2020_ValidationData\\BraTS20_Validation_124\n"
     ]
    },
    {
     "name": "stderr",
     "output_type": "stream",
     "text": [
      "\r",
      " 99%|████████████████████████████████████████████████████████████████████████████████▉ | 80/81 [00:18<00:00,  2.82it/s]"
     ]
    },
    {
     "name": "stdout",
     "output_type": "stream",
     "text": [
      "C:\\Users\\Admin\\Desktop\\KohanovDiploma\\BraTS\\MICCAI_BraTS2020_ValidationData\\BraTS20_Validation_125\n"
     ]
    },
    {
     "name": "stderr",
     "output_type": "stream",
     "text": [
      "100%|██████████████████████████████████████████████████████████████████████████████████| 81/81 [00:19<00:00,  4.25it/s]\n"
     ]
    }
   ],
   "source": [
    "niigz_to_images(val_root, 't1ce')"
   ]
  },
  {
   "cell_type": "code",
   "execution_count": null,
   "metadata": {
    "colab": {
     "base_uri": "https://localhost:8080/"
    },
    "id": "fN4DI0h5pJmL",
    "outputId": "c7b2d8c1-6855-4149-8fdd-ec3bd828c57c"
   },
   "outputs": [
    {
     "name": "stderr",
     "output_type": "stream",
     "text": [
      "\n",
      "\n",
      "\n",
      "  0%|          | 0/371 [00:00<?, ?it/s]\u001b[A\u001b[A\u001b[A\n",
      "\n",
      "\n",
      "100%|██████████| 371/371 [00:00<00:00, 3072.23it/s]\n"
     ]
    }
   ],
   "source": [
    "import shutil\n",
    "data_root = '/content/drive/MyDrive/BraTS/MICCAI_BraTS2020_TrainingData/'\n",
    "for folder in tqdm(os.listdir(data_root)):\n",
    "  if os.path.isdir(data_root + folder):\n",
    "    os.chdir(data_root + folder)\n",
    "    if os.path.isdir('t1ce'):\n",
    "      shutil.rmtree('t1ce')"
   ]
  },
  {
   "cell_type": "code",
   "execution_count": null,
   "metadata": {},
   "outputs": [],
   "source": []
  }
 ],
 "metadata": {
  "accelerator": "GPU",
  "colab": {
   "collapsed_sections": [],
   "name": "data_preprocessing.ipynb",
   "provenance": []
  },
  "kernelspec": {
   "display_name": "Python 3",
   "language": "python",
   "name": "python3"
  },
  "language_info": {
   "codemirror_mode": {
    "name": "ipython",
    "version": 3
   },
   "file_extension": ".py",
   "mimetype": "text/x-python",
   "name": "python",
   "nbconvert_exporter": "python",
   "pygments_lexer": "ipython3",
   "version": "3.8.5"
  }
 },
 "nbformat": 4,
 "nbformat_minor": 1
}
