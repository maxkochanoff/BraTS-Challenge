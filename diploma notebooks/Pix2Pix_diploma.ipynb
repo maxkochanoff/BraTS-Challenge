{
 "cells": [
  {
   "cell_type": "code",
   "execution_count": 4,
   "id": "bada969d",
   "metadata": {},
   "outputs": [],
   "source": [
    "import shutil\n",
    "import pandas as pd\n",
    "import numpy as np\n",
    "import cv2\n",
    "import matplotlib.pyplot as plt\n",
    "from tqdm import tqdm\n",
    "import os"
   ]
  },
  {
   "cell_type": "code",
   "execution_count": 5,
   "id": "ad84bbdf",
   "metadata": {},
   "outputs": [],
   "source": [
    "data_root = 'C:\\\\Users\\\\Admin\\\\Desktop\\\\KohanovDiploma\\\\BraTS\\\\MICCAI_BraTS2020_TrainingData\\\\'"
   ]
  },
  {
   "cell_type": "markdown",
   "id": "916b03d4",
   "metadata": {},
   "source": [
    "# Data Preparation"
   ]
  },
  {
   "cell_type": "code",
   "execution_count": 6,
   "id": "5ee01c8b",
   "metadata": {},
   "outputs": [],
   "source": [
    "def list_of_images(data_root, modal, folder_start=0, folder_finish=len(os.listdir(data_root))):\n",
    "    images = []\n",
    "    for fold in tqdm(os.listdir(data_root)[folder_start:folder_finish]):\n",
    "        if os.path.isdir(data_root + fold):\n",
    "            for item in os.listdir(data_root + fold + f'/{modal}/'):\n",
    "                images.append(data_root + fold + f'/{modal}/' + item)\n",
    "        else:\n",
    "            continue\n",
    "    return images\n",
    "\n",
    "def create_dataset_paths(images, masks):\n",
    "    images = np.array(images)\n",
    "    masks = np.array(masks)\n",
    "    return np.c_[images, masks]"
   ]
  },
  {
   "cell_type": "code",
   "execution_count": 7,
   "id": "64bd3aee",
   "metadata": {},
   "outputs": [
    {
     "name": "stderr",
     "output_type": "stream",
     "text": [
      "100%|██████████████████████████████████████████████████████████████████████████████| 368/368 [00:00<00:00, 6558.08it/s]\n",
      "100%|██████████████████████████████████████████████████████████████████████████████| 368/368 [00:00<00:00, 6802.87it/s]\n"
     ]
    }
   ],
   "source": [
    "images = list_of_images(data_root, 't1ce', folder_finish=368)\n",
    "masks = list_of_images(data_root, 'seg', folder_finish=368)\n",
    "\n",
    "dataset_paths = create_dataset_paths(images, masks)"
   ]
  },
  {
   "cell_type": "code",
   "execution_count": 8,
   "id": "8f3185a2",
   "metadata": {},
   "outputs": [
    {
     "name": "stderr",
     "output_type": "stream",
     "text": [
      "100%|████████████████████████████████████████████████████████████████████████████████████████████| 1/1 [00:00<?, ?it/s]\n",
      "100%|██████████████████████████████████████████████████████████████████████████████████| 1/1 [00:00<00:00, 1003.90it/s]\n"
     ]
    }
   ],
   "source": [
    "images_test = list_of_images(data_root, 't1ce', folder_start=368, folder_finish=369)\n",
    "masks_test = list_of_images(data_root, 'seg', folder_start=368, folder_finish=369)"
   ]
  },
  {
   "cell_type": "code",
   "execution_count": 10,
   "id": "5cff1472",
   "metadata": {},
   "outputs": [],
   "source": [
    "from sklearn.model_selection import train_test_split\n",
    "\n",
    "train_files, val_files = train_test_split(dataset_paths,\n",
    "                                          test_size=0.1,\n",
    "                                          random_state=2021)"
   ]
  },
  {
   "cell_type": "code",
   "execution_count": 11,
   "id": "ea64c80d",
   "metadata": {},
   "outputs": [
    {
     "name": "stderr",
     "output_type": "stream",
     "text": [
      "100%|███████████████████████████████████████████████████████████████████████████| 51336/51336 [01:08<00:00, 751.72it/s]\n"
     ]
    }
   ],
   "source": [
    "for i in tqdm(range(train_files.shape[0])): \n",
    "    shutil.copyfile(train_files[i][0], 'C:\\\\Users\\\\Admin\\\\Desktop\\\\KohanovDiploma\\\\Pix2Pix\\\\BraTS\\\\A\\\\train\\\\' + str(i) + '.png')\n",
    "    shutil.copyfile(train_files[i][1], 'C:\\\\Users\\\\Admin\\\\Desktop\\\\KohanovDiploma\\\\Pix2Pix\\\\BraTS\\\\B\\\\train\\\\' + str(i) + '.png')"
   ]
  },
  {
   "cell_type": "code",
   "execution_count": 12,
   "id": "e90e993b",
   "metadata": {},
   "outputs": [
    {
     "name": "stderr",
     "output_type": "stream",
     "text": [
      "100%|█████████████████████████████████████████████████████████████████████████████| 5704/5704 [00:07<00:00, 750.72it/s]\n"
     ]
    }
   ],
   "source": [
    "for i in tqdm(range(val_files.shape[0])):\n",
    "    shutil.copyfile(val_files[i][0], 'C:\\\\Users\\\\Admin\\\\Desktop\\\\KohanovDiploma\\\\Pix2Pix\\\\BraTS\\\\A\\\\val\\\\' + str(i) + '.png')\n",
    "    shutil.copyfile(val_files[i][1], 'C:\\\\Users\\\\Admin\\\\Desktop\\\\KohanovDiploma\\\\Pix2Pix\\\\BraTS\\\\B\\\\val\\\\' + str(i) + '.png')"
   ]
  },
  {
   "cell_type": "code",
   "execution_count": 13,
   "id": "a039d1f8",
   "metadata": {},
   "outputs": [
    {
     "name": "stderr",
     "output_type": "stream",
     "text": [
      "100%|███████████████████████████████████████████████████████████████████████████████| 155/155 [00:00<00:00, 844.61it/s]\n"
     ]
    }
   ],
   "source": [
    "for i in tqdm(range(len(images_test))):\n",
    "    shutil.copyfile(images_test[i], 'C:\\\\Users\\\\Admin\\\\Desktop\\\\KohanovDiploma\\\\Pix2Pix\\\\BraTS\\\\A\\\\test\\\\' + str(i) + '.png')\n",
    "    shutil.copyfile(masks_test[i], 'C:\\\\Users\\\\Admin\\\\Desktop\\\\KohanovDiploma\\\\Pix2Pix\\\\BraTS\\\\B\\\\test\\\\' + str(i) + '.png')"
   ]
  },
  {
   "cell_type": "markdown",
   "id": "d00d49ab",
   "metadata": {},
   "source": [
    "# Pix2Pix"
   ]
  },
  {
   "cell_type": "code",
   "execution_count": 21,
   "id": "62925e9b",
   "metadata": {},
   "outputs": [
    {
     "name": "stderr",
     "output_type": "stream",
     "text": [
      "Cloning into 'pytorch-CycleGAN-and-pix2pix'...\n"
     ]
    },
    {
     "name": "stdout",
     "output_type": "stream",
     "text": [
      "Requirement already satisfied: torch>=1.4.0 in c:\\users\\admin\\anaconda3\\lib\\site-packages (from -r requirements.txt (line 1)) (1.8.1+cu111)\n",
      "Requirement already satisfied: torchvision>=0.5.0 in c:\\users\\admin\\anaconda3\\lib\\site-packages (from -r requirements.txt (line 2)) (0.9.1)\n",
      "Requirement already satisfied: dominate>=2.4.0 in c:\\users\\admin\\anaconda3\\lib\\site-packages (from -r requirements.txt (line 3)) (2.6.0)\n",
      "Requirement already satisfied: visdom>=0.1.8.8 in c:\\users\\admin\\anaconda3\\lib\\site-packages (from -r requirements.txt (line 4)) (0.1.8.9)\n",
      "Requirement already satisfied: typing-extensions in c:\\users\\admin\\anaconda3\\lib\\site-packages (from torch>=1.4.0->-r requirements.txt (line 1)) (3.7.4.3)\n",
      "Requirement already satisfied: numpy in c:\\users\\admin\\anaconda3\\lib\\site-packages (from torch>=1.4.0->-r requirements.txt (line 1)) (1.19.5)\n",
      "Requirement already satisfied: pillow>=4.1.1 in c:\\users\\admin\\anaconda3\\lib\\site-packages (from torchvision>=0.5.0->-r requirements.txt (line 2)) (8.2.0)\n",
      "Requirement already satisfied: jsonpatch in c:\\users\\admin\\anaconda3\\lib\\site-packages (from visdom>=0.1.8.8->-r requirements.txt (line 4)) (1.32)\n",
      "Requirement already satisfied: requests in c:\\users\\admin\\anaconda3\\lib\\site-packages (from visdom>=0.1.8.8->-r requirements.txt (line 4)) (2.25.1)\n",
      "Requirement already satisfied: pyzmq in c:\\users\\admin\\anaconda3\\lib\\site-packages (from visdom>=0.1.8.8->-r requirements.txt (line 4)) (22.0.3)\n",
      "Requirement already satisfied: scipy in c:\\users\\admin\\anaconda3\\lib\\site-packages (from visdom>=0.1.8.8->-r requirements.txt (line 4)) (1.6.2)\n",
      "Requirement already satisfied: torchfile in c:\\users\\admin\\anaconda3\\lib\\site-packages (from visdom>=0.1.8.8->-r requirements.txt (line 4)) (0.1.0)\n",
      "Requirement already satisfied: six in c:\\users\\admin\\anaconda3\\lib\\site-packages (from visdom>=0.1.8.8->-r requirements.txt (line 4)) (1.15.0)\n",
      "Requirement already satisfied: websocket-client in c:\\users\\admin\\anaconda3\\lib\\site-packages (from visdom>=0.1.8.8->-r requirements.txt (line 4)) (0.58.0)\n",
      "Requirement already satisfied: tornado in c:\\users\\admin\\anaconda3\\lib\\site-packages (from visdom>=0.1.8.8->-r requirements.txt (line 4)) (6.1)\n",
      "Requirement already satisfied: jsonpointer>=1.9 in c:\\users\\admin\\anaconda3\\lib\\site-packages (from jsonpatch->visdom>=0.1.8.8->-r requirements.txt (line 4)) (2.1)\n",
      "Requirement already satisfied: idna<3,>=2.5 in c:\\users\\admin\\anaconda3\\lib\\site-packages (from requests->visdom>=0.1.8.8->-r requirements.txt (line 4)) (2.10)\n",
      "Requirement already satisfied: certifi>=2017.4.17 in c:\\users\\admin\\anaconda3\\lib\\site-packages (from requests->visdom>=0.1.8.8->-r requirements.txt (line 4)) (2020.12.5)\n",
      "Requirement already satisfied: chardet<5,>=3.0.2 in c:\\users\\admin\\anaconda3\\lib\\site-packages (from requests->visdom>=0.1.8.8->-r requirements.txt (line 4)) (4.0.0)\n",
      "Requirement already satisfied: urllib3<1.27,>=1.21.1 in c:\\users\\admin\\anaconda3\\lib\\site-packages (from requests->visdom>=0.1.8.8->-r requirements.txt (line 4)) (1.26.4)\n"
     ]
    }
   ],
   "source": [
    "!git clone https://github.com/junyanz/pytorch-CycleGAN-and-pix2pix\n",
    "os.chdir('C:\\\\Users\\\\Admin\\\\Desktop\\\\KohanovDiploma\\\\pytorch-CycleGAN-and-pix2pix')\n",
    "!pip install -r requirements.txt    "
   ]
  },
  {
   "cell_type": "markdown",
   "id": "79f26bb2",
   "metadata": {},
   "source": [
    "Combine A and B"
   ]
  },
  {
   "cell_type": "code",
   "execution_count": 25,
   "id": "7d8eefaf",
   "metadata": {},
   "outputs": [
    {
     "name": "stderr",
     "output_type": "stream",
     "text": [
      "usage: create image pairs [-h] [--fold_A FOLD_A] [--fold_B FOLD_B] [--fold_AB FOLD_AB] [--num_imgs NUM_IMGS]\n",
      "                          [--use_AB]\n",
      "create image pairs: error: unrecognized arguments: -f C:\\Users\\Admin\\AppData\\Roaming\\jupyter\\runtime\\kernel-ed2aeb2a-904f-4305-bb2c-22259ef2a21e.json\n"
     ]
    },
    {
     "ename": "SystemExit",
     "evalue": "2",
     "output_type": "error",
     "traceback": [
      "An exception has occurred, use %tb to see the full traceback.\n",
      "\u001b[1;31mSystemExit\u001b[0m\u001b[1;31m:\u001b[0m 2\n"
     ]
    }
   ],
   "source": [
    "!python datasets/combine_A_and_B.py --fold_A C:\\Users\\Admin\\Desktop\\KohanovDiploma\\Pix2Pix\\A --fold_B C:\\Users\\Admin\\Desktop\\KohanovDiploma\\Pix2Pix\\A --fold_AB C:\\Users\\Admin\\Desktop\\KohanovDiploma\\Pix2Pix\\AB"
   ]
  },
  {
   "cell_type": "code",
   "execution_count": null,
   "id": "252313b2",
   "metadata": {},
   "outputs": [],
   "source": [
    "!python train.py --dataroot /content/drive/MyDrive/Pix2Pix/AB --name brats_pix2pix --model brats_pix2pix --n_epochs 10 --n_epochs_decay 0 "
   ]
  },
  {
   "cell_type": "code",
   "execution_count": null,
   "id": "f4794e0d",
   "metadata": {},
   "outputs": [],
   "source": [
    "!ls checkpoints/"
   ]
  },
  {
   "cell_type": "code",
   "execution_count": null,
   "id": "81ea39ba",
   "metadata": {},
   "outputs": [],
   "source": [
    "!python test.py --dataroot ./datasets/night2day --direction AtoB --model pix2pix --name night2day_pix2pix --num_test 155"
   ]
  }
 ],
 "metadata": {
  "kernelspec": {
   "display_name": "Python 3",
   "language": "python",
   "name": "python3"
  },
  "language_info": {
   "codemirror_mode": {
    "name": "ipython",
    "version": 3
   },
   "file_extension": ".py",
   "mimetype": "text/x-python",
   "name": "python",
   "nbconvert_exporter": "python",
   "pygments_lexer": "ipython3",
   "version": "3.8.5"
  }
 },
 "nbformat": 4,
 "nbformat_minor": 5
}
